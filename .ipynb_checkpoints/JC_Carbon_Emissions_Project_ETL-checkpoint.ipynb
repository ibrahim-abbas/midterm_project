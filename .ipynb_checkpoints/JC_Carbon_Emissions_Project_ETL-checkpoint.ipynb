{
 "cells": [
  {
   "cell_type": "markdown",
   "metadata": {},
   "source": [
    "# Global Carbon Emissions & Temperatures Midterm Project ETL"
   ]
  },
  {
   "cell_type": "code",
   "execution_count": 1,
   "metadata": {},
   "outputs": [],
   "source": [
    "import pandas as pd\n",
    "import numpy as np"
   ]
  },
  {
   "cell_type": "markdown",
   "metadata": {},
   "source": [
    "### OECD Dataset #1"
   ]
  },
  {
   "cell_type": "code",
   "execution_count": 2,
   "metadata": {},
   "outputs": [],
   "source": [
    "OECD = pd.read_csv ('Resources/AIR_GHG_OECD.csv')"
   ]
  },
  {
   "cell_type": "code",
   "execution_count": 3,
   "metadata": {},
   "outputs": [
    {
     "data": {
      "text/html": [
       "<div>\n",
       "<style scoped>\n",
       "    .dataframe tbody tr th:only-of-type {\n",
       "        vertical-align: middle;\n",
       "    }\n",
       "\n",
       "    .dataframe tbody tr th {\n",
       "        vertical-align: top;\n",
       "    }\n",
       "\n",
       "    .dataframe thead th {\n",
       "        text-align: right;\n",
       "    }\n",
       "</style>\n",
       "<table border=\"1\" class=\"dataframe\">\n",
       "  <thead>\n",
       "    <tr style=\"text-align: right;\">\n",
       "      <th></th>\n",
       "      <th>COU</th>\n",
       "      <th>Country</th>\n",
       "      <th>POL</th>\n",
       "      <th>Pollutant</th>\n",
       "      <th>VAR</th>\n",
       "      <th>Variable</th>\n",
       "      <th>YEA</th>\n",
       "      <th>Year</th>\n",
       "      <th>Unit Code</th>\n",
       "      <th>Unit</th>\n",
       "      <th>PowerCode Code</th>\n",
       "      <th>PowerCode</th>\n",
       "      <th>Reference Period Code</th>\n",
       "      <th>Reference Period</th>\n",
       "      <th>Value</th>\n",
       "      <th>Flag Codes</th>\n",
       "      <th>Flags</th>\n",
       "    </tr>\n",
       "  </thead>\n",
       "  <tbody>\n",
       "    <tr>\n",
       "      <th>0</th>\n",
       "      <td>AUS</td>\n",
       "      <td>Australia</td>\n",
       "      <td>GHG</td>\n",
       "      <td>Greenhouse gases</td>\n",
       "      <td>TOTAL</td>\n",
       "      <td>Total  emissions excluding LULUCF</td>\n",
       "      <td>1990</td>\n",
       "      <td>1990</td>\n",
       "      <td>T_CO2_EQVT</td>\n",
       "      <td>Tonnes of CO2 equivalent</td>\n",
       "      <td>3</td>\n",
       "      <td>Thousands</td>\n",
       "      <td>NaN</td>\n",
       "      <td>NaN</td>\n",
       "      <td>425624.307</td>\n",
       "      <td>NaN</td>\n",
       "      <td>NaN</td>\n",
       "    </tr>\n",
       "    <tr>\n",
       "      <th>1</th>\n",
       "      <td>AUS</td>\n",
       "      <td>Australia</td>\n",
       "      <td>GHG</td>\n",
       "      <td>Greenhouse gases</td>\n",
       "      <td>TOTAL</td>\n",
       "      <td>Total  emissions excluding LULUCF</td>\n",
       "      <td>1991</td>\n",
       "      <td>1991</td>\n",
       "      <td>T_CO2_EQVT</td>\n",
       "      <td>Tonnes of CO2 equivalent</td>\n",
       "      <td>3</td>\n",
       "      <td>Thousands</td>\n",
       "      <td>NaN</td>\n",
       "      <td>NaN</td>\n",
       "      <td>425686.445</td>\n",
       "      <td>NaN</td>\n",
       "      <td>NaN</td>\n",
       "    </tr>\n",
       "    <tr>\n",
       "      <th>2</th>\n",
       "      <td>AUS</td>\n",
       "      <td>Australia</td>\n",
       "      <td>GHG</td>\n",
       "      <td>Greenhouse gases</td>\n",
       "      <td>TOTAL</td>\n",
       "      <td>Total  emissions excluding LULUCF</td>\n",
       "      <td>1992</td>\n",
       "      <td>1992</td>\n",
       "      <td>T_CO2_EQVT</td>\n",
       "      <td>Tonnes of CO2 equivalent</td>\n",
       "      <td>3</td>\n",
       "      <td>Thousands</td>\n",
       "      <td>NaN</td>\n",
       "      <td>NaN</td>\n",
       "      <td>429473.085</td>\n",
       "      <td>NaN</td>\n",
       "      <td>NaN</td>\n",
       "    </tr>\n",
       "    <tr>\n",
       "      <th>3</th>\n",
       "      <td>AUS</td>\n",
       "      <td>Australia</td>\n",
       "      <td>GHG</td>\n",
       "      <td>Greenhouse gases</td>\n",
       "      <td>TOTAL</td>\n",
       "      <td>Total  emissions excluding LULUCF</td>\n",
       "      <td>1993</td>\n",
       "      <td>1993</td>\n",
       "      <td>T_CO2_EQVT</td>\n",
       "      <td>Tonnes of CO2 equivalent</td>\n",
       "      <td>3</td>\n",
       "      <td>Thousands</td>\n",
       "      <td>NaN</td>\n",
       "      <td>NaN</td>\n",
       "      <td>430381.731</td>\n",
       "      <td>NaN</td>\n",
       "      <td>NaN</td>\n",
       "    </tr>\n",
       "    <tr>\n",
       "      <th>4</th>\n",
       "      <td>AUS</td>\n",
       "      <td>Australia</td>\n",
       "      <td>GHG</td>\n",
       "      <td>Greenhouse gases</td>\n",
       "      <td>TOTAL</td>\n",
       "      <td>Total  emissions excluding LULUCF</td>\n",
       "      <td>1994</td>\n",
       "      <td>1994</td>\n",
       "      <td>T_CO2_EQVT</td>\n",
       "      <td>Tonnes of CO2 equivalent</td>\n",
       "      <td>3</td>\n",
       "      <td>Thousands</td>\n",
       "      <td>NaN</td>\n",
       "      <td>NaN</td>\n",
       "      <td>430848.498</td>\n",
       "      <td>NaN</td>\n",
       "      <td>NaN</td>\n",
       "    </tr>\n",
       "  </tbody>\n",
       "</table>\n",
       "</div>"
      ],
      "text/plain": [
       "   COU    Country  POL         Pollutant    VAR  \\\n",
       "0  AUS  Australia  GHG  Greenhouse gases  TOTAL   \n",
       "1  AUS  Australia  GHG  Greenhouse gases  TOTAL   \n",
       "2  AUS  Australia  GHG  Greenhouse gases  TOTAL   \n",
       "3  AUS  Australia  GHG  Greenhouse gases  TOTAL   \n",
       "4  AUS  Australia  GHG  Greenhouse gases  TOTAL   \n",
       "\n",
       "                            Variable   YEA  Year   Unit Code  \\\n",
       "0  Total  emissions excluding LULUCF  1990  1990  T_CO2_EQVT   \n",
       "1  Total  emissions excluding LULUCF  1991  1991  T_CO2_EQVT   \n",
       "2  Total  emissions excluding LULUCF  1992  1992  T_CO2_EQVT   \n",
       "3  Total  emissions excluding LULUCF  1993  1993  T_CO2_EQVT   \n",
       "4  Total  emissions excluding LULUCF  1994  1994  T_CO2_EQVT   \n",
       "\n",
       "                       Unit  PowerCode Code  PowerCode  Reference Period Code  \\\n",
       "0  Tonnes of CO2 equivalent               3  Thousands                    NaN   \n",
       "1  Tonnes of CO2 equivalent               3  Thousands                    NaN   \n",
       "2  Tonnes of CO2 equivalent               3  Thousands                    NaN   \n",
       "3  Tonnes of CO2 equivalent               3  Thousands                    NaN   \n",
       "4  Tonnes of CO2 equivalent               3  Thousands                    NaN   \n",
       "\n",
       "   Reference Period       Value Flag Codes Flags  \n",
       "0               NaN  425624.307        NaN   NaN  \n",
       "1               NaN  425686.445        NaN   NaN  \n",
       "2               NaN  429473.085        NaN   NaN  \n",
       "3               NaN  430381.731        NaN   NaN  \n",
       "4               NaN  430848.498        NaN   NaN  "
      ]
     },
     "execution_count": 3,
     "metadata": {},
     "output_type": "execute_result"
    }
   ],
   "source": [
    "OECD.head()"
   ]
  },
  {
   "cell_type": "code",
   "execution_count": 4,
   "metadata": {},
   "outputs": [
    {
     "name": "stdout",
     "output_type": "stream",
     "text": [
      "<class 'pandas.core.frame.DataFrame'>\n",
      "RangeIndex: 75691 entries, 0 to 75690\n",
      "Data columns (total 17 columns):\n",
      " #   Column                 Non-Null Count  Dtype  \n",
      "---  ------                 --------------  -----  \n",
      " 0   COU                    75691 non-null  object \n",
      " 1   Country                75691 non-null  object \n",
      " 2   POL                    75691 non-null  object \n",
      " 3   Pollutant              75691 non-null  object \n",
      " 4   VAR                    75691 non-null  object \n",
      " 5   Variable               75691 non-null  object \n",
      " 6   YEA                    75691 non-null  int64  \n",
      " 7   Year                   75691 non-null  int64  \n",
      " 8   Unit Code              72758 non-null  object \n",
      " 9   Unit                   72758 non-null  object \n",
      " 10  PowerCode Code         75691 non-null  int64  \n",
      " 11  PowerCode              75691 non-null  object \n",
      " 12  Reference Period Code  0 non-null      float64\n",
      " 13  Reference Period       0 non-null      float64\n",
      " 14  Value                  75691 non-null  float64\n",
      " 15  Flag Codes             4 non-null      object \n",
      " 16  Flags                  4 non-null      object \n",
      "dtypes: float64(3), int64(3), object(11)\n",
      "memory usage: 9.8+ MB\n"
     ]
    }
   ],
   "source": [
    "OECD.info()"
   ]
  },
  {
   "cell_type": "code",
   "execution_count": 5,
   "metadata": {},
   "outputs": [
    {
     "name": "stdout",
     "output_type": "stream",
     "text": [
      "Greenhouse gases\n",
      "Carbon dioxide\n",
      "Methane\n",
      "Nitrous oxide\n",
      "Hydrofluorocarbons\n",
      "Perfluorocarbons\n",
      "Sulphur hexafluoride\n",
      "Nitrogen trifluoride\n",
      "Unspecified mix of HFCs and PFCs\n"
     ]
    }
   ],
   "source": [
    "emission_types = OECD['Pollutant'].unique()\n",
    "for each_type in emission_types:\n",
    "    print(each_type)"
   ]
  },
  {
   "cell_type": "code",
   "execution_count": 6,
   "metadata": {},
   "outputs": [],
   "source": [
    "#Drop the repetitive columns with exception of country code (rename as abbreviation)\n",
    "OECD = OECD.drop(['COU','POL', 'VAR','YEA','Unit Code','PowerCode Code','Reference Period','Reference Period Code','Flag Codes','Flags'], axis=1)"
   ]
  },
  {
   "cell_type": "code",
   "execution_count": 7,
   "metadata": {},
   "outputs": [
    {
     "data": {
      "text/html": [
       "<div>\n",
       "<style scoped>\n",
       "    .dataframe tbody tr th:only-of-type {\n",
       "        vertical-align: middle;\n",
       "    }\n",
       "\n",
       "    .dataframe tbody tr th {\n",
       "        vertical-align: top;\n",
       "    }\n",
       "\n",
       "    .dataframe thead th {\n",
       "        text-align: right;\n",
       "    }\n",
       "</style>\n",
       "<table border=\"1\" class=\"dataframe\">\n",
       "  <thead>\n",
       "    <tr style=\"text-align: right;\">\n",
       "      <th></th>\n",
       "      <th>Country</th>\n",
       "      <th>Pollutant</th>\n",
       "      <th>Variable</th>\n",
       "      <th>Year</th>\n",
       "      <th>Unit</th>\n",
       "      <th>PowerCode</th>\n",
       "      <th>Value</th>\n",
       "    </tr>\n",
       "  </thead>\n",
       "  <tbody>\n",
       "    <tr>\n",
       "      <th>0</th>\n",
       "      <td>Australia</td>\n",
       "      <td>Greenhouse gases</td>\n",
       "      <td>Total  emissions excluding LULUCF</td>\n",
       "      <td>1990</td>\n",
       "      <td>Tonnes of CO2 equivalent</td>\n",
       "      <td>Thousands</td>\n",
       "      <td>425624.307</td>\n",
       "    </tr>\n",
       "    <tr>\n",
       "      <th>1</th>\n",
       "      <td>Australia</td>\n",
       "      <td>Greenhouse gases</td>\n",
       "      <td>Total  emissions excluding LULUCF</td>\n",
       "      <td>1991</td>\n",
       "      <td>Tonnes of CO2 equivalent</td>\n",
       "      <td>Thousands</td>\n",
       "      <td>425686.445</td>\n",
       "    </tr>\n",
       "    <tr>\n",
       "      <th>2</th>\n",
       "      <td>Australia</td>\n",
       "      <td>Greenhouse gases</td>\n",
       "      <td>Total  emissions excluding LULUCF</td>\n",
       "      <td>1992</td>\n",
       "      <td>Tonnes of CO2 equivalent</td>\n",
       "      <td>Thousands</td>\n",
       "      <td>429473.085</td>\n",
       "    </tr>\n",
       "    <tr>\n",
       "      <th>3</th>\n",
       "      <td>Australia</td>\n",
       "      <td>Greenhouse gases</td>\n",
       "      <td>Total  emissions excluding LULUCF</td>\n",
       "      <td>1993</td>\n",
       "      <td>Tonnes of CO2 equivalent</td>\n",
       "      <td>Thousands</td>\n",
       "      <td>430381.731</td>\n",
       "    </tr>\n",
       "    <tr>\n",
       "      <th>4</th>\n",
       "      <td>Australia</td>\n",
       "      <td>Greenhouse gases</td>\n",
       "      <td>Total  emissions excluding LULUCF</td>\n",
       "      <td>1994</td>\n",
       "      <td>Tonnes of CO2 equivalent</td>\n",
       "      <td>Thousands</td>\n",
       "      <td>430848.498</td>\n",
       "    </tr>\n",
       "  </tbody>\n",
       "</table>\n",
       "</div>"
      ],
      "text/plain": [
       "     Country         Pollutant                           Variable  Year  \\\n",
       "0  Australia  Greenhouse gases  Total  emissions excluding LULUCF  1990   \n",
       "1  Australia  Greenhouse gases  Total  emissions excluding LULUCF  1991   \n",
       "2  Australia  Greenhouse gases  Total  emissions excluding LULUCF  1992   \n",
       "3  Australia  Greenhouse gases  Total  emissions excluding LULUCF  1993   \n",
       "4  Australia  Greenhouse gases  Total  emissions excluding LULUCF  1994   \n",
       "\n",
       "                       Unit  PowerCode       Value  \n",
       "0  Tonnes of CO2 equivalent  Thousands  425624.307  \n",
       "1  Tonnes of CO2 equivalent  Thousands  425686.445  \n",
       "2  Tonnes of CO2 equivalent  Thousands  429473.085  \n",
       "3  Tonnes of CO2 equivalent  Thousands  430381.731  \n",
       "4  Tonnes of CO2 equivalent  Thousands  430848.498  "
      ]
     },
     "execution_count": 7,
     "metadata": {},
     "output_type": "execute_result"
    }
   ],
   "source": [
    "OECD.head()"
   ]
  },
  {
   "cell_type": "code",
   "execution_count": 8,
   "metadata": {},
   "outputs": [
    {
     "name": "stdout",
     "output_type": "stream",
     "text": [
      "<class 'pandas.core.frame.DataFrame'>\n",
      "RangeIndex: 75691 entries, 0 to 75690\n",
      "Data columns (total 7 columns):\n",
      " #   Column     Non-Null Count  Dtype  \n",
      "---  ------     --------------  -----  \n",
      " 0   Country    75691 non-null  object \n",
      " 1   Pollutant  75691 non-null  object \n",
      " 2   Variable   75691 non-null  object \n",
      " 3   Year       75691 non-null  int64  \n",
      " 4   Unit       72758 non-null  object \n",
      " 5   PowerCode  75691 non-null  object \n",
      " 6   Value      75691 non-null  float64\n",
      "dtypes: float64(1), int64(1), object(5)\n",
      "memory usage: 4.0+ MB\n"
     ]
    }
   ],
   "source": [
    "OECD.info()"
   ]
  },
  {
   "cell_type": "code",
   "execution_count": 9,
   "metadata": {},
   "outputs": [],
   "source": [
    "OECD[[\"Country\",\"Pollutant\",\"Variable\",\"Unit\",\"PowerCode\"]] = OECD[[\"Country\",\"Pollutant\",\"Variable\",\"Unit\",\"PowerCode\"]].astype('string')"
   ]
  },
  {
   "cell_type": "code",
   "execution_count": 10,
   "metadata": {},
   "outputs": [
    {
     "name": "stdout",
     "output_type": "stream",
     "text": [
      "<StringArray>\n",
      "[                                      'Australia',\n",
      "                                         'Austria',\n",
      "                                         'Belgium',\n",
      "                                          'Canada',\n",
      "                                  'Czech Republic',\n",
      "                                         'Denmark',\n",
      "                                         'Finland',\n",
      "                                          'France',\n",
      "                                         'Germany',\n",
      "                                          'Greece',\n",
      "                                         'Hungary',\n",
      "                                         'Iceland',\n",
      "                                         'Ireland',\n",
      "                                           'Italy',\n",
      "                                           'Japan',\n",
      "                                           'Korea',\n",
      "                                      'Luxembourg',\n",
      "                                          'Mexico',\n",
      "                                     'Netherlands',\n",
      "                                     'New Zealand',\n",
      "                                          'Norway',\n",
      "                                          'Poland',\n",
      "                                        'Portugal',\n",
      "                                 'Slovak Republic',\n",
      "                                           'Spain',\n",
      "                                          'Sweden',\n",
      "                                     'Switzerland',\n",
      "                                         'Türkiye',\n",
      "                                  'United Kingdom',\n",
      "                                   'United States',\n",
      "                                           'Chile',\n",
      "                                         'Estonia',\n",
      "                                          'Israel',\n",
      "                                          'Russia',\n",
      "                                        'Slovenia',\n",
      "                                          'Latvia',\n",
      "                                       'Lithuania',\n",
      "                                    'OECD - Total',\n",
      "                                   'OECD - Europe',\n",
      "                                          'Brazil',\n",
      "                    \"China (People's Republic of)\",\n",
      "                                        'Colombia',\n",
      "                                      'Costa Rica',\n",
      "                                           'India',\n",
      "                                       'Indonesia',\n",
      "                                    'South Africa',\n",
      "                                       'Argentina',\n",
      "                               'OECD Asia Oceania',\n",
      "                                    'OECD America',\n",
      "                                   'Liechtenstein',\n",
      "                                        'Bulgaria',\n",
      "                                         'Ukraine',\n",
      "                                         'Romania',\n",
      "                                    'Saudi Arabia',\n",
      "                                           'Malta',\n",
      "                                          'Cyprus',\n",
      "                                      'Kazakhstan',\n",
      "                                            'Peru',\n",
      "                                          'Monaco',\n",
      "                                         'Belarus',\n",
      "                                         'Croatia',\n",
      "                                            'Iran',\n",
      " 'European Union – 27 countries (from 01/02/2020)']\n",
      "Length: 63, dtype: string\n"
     ]
    }
   ],
   "source": [
    "#Note: Will need a list of Countries for filtering second dataset.\n",
    "#To be done during cleaning or after.\n",
    "OECD_countries = OECD['Country'].unique()\n",
    "print(OECD_countries)\n",
    "\n",
    "# EU_countries = ['Austria', 'Belgium', 'Bulgaria', 'Croatia', 'Republic of Cyprus', 'Czech Republic', \n",
    "#                 'Denmark', 'Estonia', 'Finland', 'France', 'Germany', 'Greece', 'Hungary', \n",
    "#                 'Ireland', 'Italy', 'Latvia', 'Lithuania', 'Luxembourg', 'Malta', 'Netherlands', \n",
    "#                 'Poland', 'Portugal', 'Romania', 'Slovakia', 'Slovenia', 'Spain', 'Sweden']"
   ]
  },
  {
   "cell_type": "code",
   "execution_count": 11,
   "metadata": {},
   "outputs": [
    {
     "data": {
      "text/plain": [
       "59"
      ]
     },
     "execution_count": 11,
     "metadata": {},
     "output_type": "execute_result"
    }
   ],
   "source": [
    "#Count of potential expected countries\n",
    "common_countries = len(OECD_countries)-4\n",
    "common_countries"
   ]
  },
  {
   "cell_type": "code",
   "execution_count": 12,
   "metadata": {},
   "outputs": [],
   "source": [
    "#This is only carbon dioxide pollutant. There are other greenhouse gasses in this dataset.\n",
    "OECD_Carbon = OECD[OECD['Pollutant']=='Carbon dioxide']"
   ]
  },
  {
   "cell_type": "code",
   "execution_count": 13,
   "metadata": {},
   "outputs": [],
   "source": [
    "OECD = OECD.rename(columns = {'Year':'EmissionYear','Value':'EmissionVal'})"
   ]
  },
  {
   "cell_type": "code",
   "execution_count": 14,
   "metadata": {},
   "outputs": [
    {
     "name": "stdout",
     "output_type": "stream",
     "text": [
      "<class 'pandas.core.frame.DataFrame'>\n",
      "RangeIndex: 75691 entries, 0 to 75690\n",
      "Data columns (total 7 columns):\n",
      " #   Column        Non-Null Count  Dtype  \n",
      "---  ------        --------------  -----  \n",
      " 0   Country       75691 non-null  string \n",
      " 1   Pollutant     75691 non-null  string \n",
      " 2   Variable      75691 non-null  string \n",
      " 3   EmissionYear  75691 non-null  int64  \n",
      " 4   Unit          72758 non-null  string \n",
      " 5   PowerCode     75691 non-null  string \n",
      " 6   EmissionVal   75691 non-null  float64\n",
      "dtypes: float64(1), int64(1), string(5)\n",
      "memory usage: 4.0 MB\n"
     ]
    }
   ],
   "source": [
    "OECD.info()"
   ]
  },
  {
   "cell_type": "code",
   "execution_count": 15,
   "metadata": {},
   "outputs": [],
   "source": [
    "#Note: We have 2,933 null values for the \"Value\" field in the overall table.\n",
    "# We will mainly be exploring the carbon dioxide data set, which does not have null values."
   ]
  },
  {
   "cell_type": "code",
   "execution_count": 16,
   "metadata": {},
   "outputs": [],
   "source": [
    "#Exporting to CSV File\n",
    "OECD.to_csv('oecd_data_cleaned.csv')"
   ]
  },
  {
   "cell_type": "markdown",
   "metadata": {},
   "source": [
    "### Kaggle Data Set #2"
   ]
  },
  {
   "cell_type": "code",
   "execution_count": 17,
   "metadata": {},
   "outputs": [
    {
     "data": {
      "text/html": [
       "<div>\n",
       "<style scoped>\n",
       "    .dataframe tbody tr th:only-of-type {\n",
       "        vertical-align: middle;\n",
       "    }\n",
       "\n",
       "    .dataframe tbody tr th {\n",
       "        vertical-align: top;\n",
       "    }\n",
       "\n",
       "    .dataframe thead th {\n",
       "        text-align: right;\n",
       "    }\n",
       "</style>\n",
       "<table border=\"1\" class=\"dataframe\">\n",
       "  <thead>\n",
       "    <tr style=\"text-align: right;\">\n",
       "      <th></th>\n",
       "      <th>dt</th>\n",
       "      <th>AverageTemperature</th>\n",
       "      <th>AverageTemperatureUncertainty</th>\n",
       "      <th>Country</th>\n",
       "    </tr>\n",
       "  </thead>\n",
       "  <tbody>\n",
       "    <tr>\n",
       "      <th>0</th>\n",
       "      <td>1743-11-01</td>\n",
       "      <td>4.384</td>\n",
       "      <td>2.294</td>\n",
       "      <td>Åland</td>\n",
       "    </tr>\n",
       "    <tr>\n",
       "      <th>1</th>\n",
       "      <td>1743-12-01</td>\n",
       "      <td>NaN</td>\n",
       "      <td>NaN</td>\n",
       "      <td>Åland</td>\n",
       "    </tr>\n",
       "    <tr>\n",
       "      <th>2</th>\n",
       "      <td>1744-01-01</td>\n",
       "      <td>NaN</td>\n",
       "      <td>NaN</td>\n",
       "      <td>Åland</td>\n",
       "    </tr>\n",
       "    <tr>\n",
       "      <th>3</th>\n",
       "      <td>1744-02-01</td>\n",
       "      <td>NaN</td>\n",
       "      <td>NaN</td>\n",
       "      <td>Åland</td>\n",
       "    </tr>\n",
       "    <tr>\n",
       "      <th>4</th>\n",
       "      <td>1744-03-01</td>\n",
       "      <td>NaN</td>\n",
       "      <td>NaN</td>\n",
       "      <td>Åland</td>\n",
       "    </tr>\n",
       "  </tbody>\n",
       "</table>\n",
       "</div>"
      ],
      "text/plain": [
       "           dt  AverageTemperature  AverageTemperatureUncertainty Country\n",
       "0  1743-11-01               4.384                          2.294   Åland\n",
       "1  1743-12-01                 NaN                            NaN   Åland\n",
       "2  1744-01-01                 NaN                            NaN   Åland\n",
       "3  1744-02-01                 NaN                            NaN   Åland\n",
       "4  1744-03-01                 NaN                            NaN   Åland"
      ]
     },
     "execution_count": 17,
     "metadata": {},
     "output_type": "execute_result"
    }
   ],
   "source": [
    "file_name='/Users/jessicacamacho/OneDrive/Data/earth_surface_temp/GlobalLandTemperaturesByCountry.csv'\n",
    "temp=pd.read_csv(file_name)\n",
    "temp.head()"
   ]
  },
  {
   "cell_type": "code",
   "execution_count": 18,
   "metadata": {},
   "outputs": [
    {
     "name": "stdout",
     "output_type": "stream",
     "text": [
      "<class 'pandas.core.frame.DataFrame'>\n",
      "RangeIndex: 577462 entries, 0 to 577461\n",
      "Data columns (total 4 columns):\n",
      " #   Column                         Non-Null Count   Dtype  \n",
      "---  ------                         --------------   -----  \n",
      " 0   dt                             577462 non-null  object \n",
      " 1   AverageTemperature             544811 non-null  float64\n",
      " 2   AverageTemperatureUncertainty  545550 non-null  float64\n",
      " 3   Country                        577462 non-null  object \n",
      "dtypes: float64(2), object(2)\n",
      "memory usage: 17.6+ MB\n"
     ]
    }
   ],
   "source": [
    "temp.info()"
   ]
  },
  {
   "cell_type": "code",
   "execution_count": 19,
   "metadata": {},
   "outputs": [],
   "source": [
    "#Converting Country to string format\n",
    "temp[['Country']]=temp[['Country']].astype('string')"
   ]
  },
  {
   "cell_type": "code",
   "execution_count": 20,
   "metadata": {},
   "outputs": [],
   "source": [
    "#Converting 'DT' to Datefime\n",
    "temp['dt']=pd.to_datetime(temp['dt'])"
   ]
  },
  {
   "cell_type": "code",
   "execution_count": 21,
   "metadata": {},
   "outputs": [],
   "source": [
    "#Getting seperate parts of data for normalization\n",
    "temp['TempYear'] = pd.DatetimeIndex(temp['dt']).year\n",
    "temp['TempMonth'] = pd.DatetimeIndex(temp['dt']).month\n",
    "temp['TempDay']= pd.DatetimeIndex(temp['dt']).day\n",
    "\n",
    "#Dropping to normalize table\n",
    "temp = temp.drop(['dt'],axis=1)"
   ]
  },
  {
   "cell_type": "code",
   "execution_count": 22,
   "metadata": {},
   "outputs": [
    {
     "data": {
      "text/html": [
       "<div>\n",
       "<style scoped>\n",
       "    .dataframe tbody tr th:only-of-type {\n",
       "        vertical-align: middle;\n",
       "    }\n",
       "\n",
       "    .dataframe tbody tr th {\n",
       "        vertical-align: top;\n",
       "    }\n",
       "\n",
       "    .dataframe thead th {\n",
       "        text-align: right;\n",
       "    }\n",
       "</style>\n",
       "<table border=\"1\" class=\"dataframe\">\n",
       "  <thead>\n",
       "    <tr style=\"text-align: right;\">\n",
       "      <th></th>\n",
       "      <th>AverageTemperature</th>\n",
       "      <th>AverageTemperatureUncertainty</th>\n",
       "      <th>Country</th>\n",
       "      <th>TempYear</th>\n",
       "      <th>TempMonth</th>\n",
       "      <th>TempDay</th>\n",
       "    </tr>\n",
       "  </thead>\n",
       "  <tbody>\n",
       "    <tr>\n",
       "      <th>0</th>\n",
       "      <td>4.384</td>\n",
       "      <td>2.294</td>\n",
       "      <td>Åland</td>\n",
       "      <td>1743</td>\n",
       "      <td>11</td>\n",
       "      <td>1</td>\n",
       "    </tr>\n",
       "    <tr>\n",
       "      <th>1</th>\n",
       "      <td>NaN</td>\n",
       "      <td>NaN</td>\n",
       "      <td>Åland</td>\n",
       "      <td>1743</td>\n",
       "      <td>12</td>\n",
       "      <td>1</td>\n",
       "    </tr>\n",
       "    <tr>\n",
       "      <th>2</th>\n",
       "      <td>NaN</td>\n",
       "      <td>NaN</td>\n",
       "      <td>Åland</td>\n",
       "      <td>1744</td>\n",
       "      <td>1</td>\n",
       "      <td>1</td>\n",
       "    </tr>\n",
       "    <tr>\n",
       "      <th>3</th>\n",
       "      <td>NaN</td>\n",
       "      <td>NaN</td>\n",
       "      <td>Åland</td>\n",
       "      <td>1744</td>\n",
       "      <td>2</td>\n",
       "      <td>1</td>\n",
       "    </tr>\n",
       "    <tr>\n",
       "      <th>4</th>\n",
       "      <td>NaN</td>\n",
       "      <td>NaN</td>\n",
       "      <td>Åland</td>\n",
       "      <td>1744</td>\n",
       "      <td>3</td>\n",
       "      <td>1</td>\n",
       "    </tr>\n",
       "  </tbody>\n",
       "</table>\n",
       "</div>"
      ],
      "text/plain": [
       "   AverageTemperature  AverageTemperatureUncertainty Country  TempYear  \\\n",
       "0               4.384                          2.294   Åland      1743   \n",
       "1                 NaN                            NaN   Åland      1743   \n",
       "2                 NaN                            NaN   Åland      1744   \n",
       "3                 NaN                            NaN   Åland      1744   \n",
       "4                 NaN                            NaN   Åland      1744   \n",
       "\n",
       "   TempMonth  TempDay  \n",
       "0         11        1  \n",
       "1         12        1  \n",
       "2          1        1  \n",
       "3          2        1  \n",
       "4          3        1  "
      ]
     },
     "execution_count": 22,
     "metadata": {},
     "output_type": "execute_result"
    }
   ],
   "source": [
    "temp.head()"
   ]
  },
  {
   "cell_type": "code",
   "execution_count": 26,
   "metadata": {},
   "outputs": [],
   "source": [
    "temp = temp[temp['TempYear'] >= 1990]"
   ]
  },
  {
   "cell_type": "code",
   "execution_count": 27,
   "metadata": {},
   "outputs": [
    {
     "data": {
      "text/plain": [
       "<StringArray>\n",
       "[         'Åland',    'Afghanistan',         'Africa',        'Albania',\n",
       "        'Algeria', 'American Samoa',        'Andorra',         'Angola',\n",
       "       'Anguilla',     'Antarctica',\n",
       " ...\n",
       "  'United States',        'Uruguay',     'Uzbekistan',      'Venezuela',\n",
       "        'Vietnam', 'Virgin Islands', 'Western Sahara',          'Yemen',\n",
       "         'Zambia',       'Zimbabwe']\n",
       "Length: 243, dtype: string"
      ]
     },
     "execution_count": 27,
     "metadata": {},
     "output_type": "execute_result"
    }
   ],
   "source": [
    "temp['Country'].unique()"
   ]
  },
  {
   "cell_type": "code",
   "execution_count": 28,
   "metadata": {},
   "outputs": [
    {
     "name": "stdout",
     "output_type": "stream",
     "text": [
      "<StringArray>\n",
      "[         'Åland',    'Afghanistan',         'Africa',        'Albania',\n",
      "        'Algeria', 'American Samoa',        'Andorra',         'Angola',\n",
      "       'Anguilla',     'Antarctica',\n",
      " ...\n",
      "  'United States',        'Uruguay',     'Uzbekistan',      'Venezuela',\n",
      "        'Vietnam', 'Virgin Islands', 'Western Sahara',          'Yemen',\n",
      "         'Zambia',       'Zimbabwe']\n",
      "Length: 243, dtype: string\n"
     ]
    },
    {
     "name": "stderr",
     "output_type": "stream",
     "text": [
      "/Applications/anaconda3/lib/python3.7/site-packages/ipykernel_launcher.py:6: SettingWithCopyWarning: \n",
      "A value is trying to be set on a copy of a slice from a DataFrame.\n",
      "Try using .loc[row_indexer,col_indexer] = value instead\n",
      "\n",
      "See the caveats in the documentation: https://pandas.pydata.org/pandas-docs/stable/user_guide/indexing.html#returning-a-view-versus-a-copy\n",
      "  \n",
      "/Applications/anaconda3/lib/python3.7/site-packages/ipykernel_launcher.py:7: SettingWithCopyWarning: \n",
      "A value is trying to be set on a copy of a slice from a DataFrame.\n",
      "Try using .loc[row_indexer,col_indexer] = value instead\n",
      "\n",
      "See the caveats in the documentation: https://pandas.pydata.org/pandas-docs/stable/user_guide/indexing.html#returning-a-view-versus-a-copy\n",
      "  import sys\n",
      "/Applications/anaconda3/lib/python3.7/site-packages/ipykernel_launcher.py:8: SettingWithCopyWarning: \n",
      "A value is trying to be set on a copy of a slice from a DataFrame.\n",
      "Try using .loc[row_indexer,col_indexer] = value instead\n",
      "\n",
      "See the caveats in the documentation: https://pandas.pydata.org/pandas-docs/stable/user_guide/indexing.html#returning-a-view-versus-a-copy\n",
      "  \n"
     ]
    }
   ],
   "source": [
    "#Changing to Match OECD Dataset including:\n",
    "# **\"China\" to China (People's Republic of)\"\n",
    "# **Turkey to Türkiye\n",
    "# *Europe to OECD - Europe\n",
    "\n",
    "temp['Country'] = temp['Country'].str.replace(\"China\", \"China (People's Republic of)\")\n",
    "temp['Country'] = temp['Country'].str.replace(\"Turkey\", \"Türkiye\")\n",
    "temp['Country'] = temp['Country'].str.replace(\"Europe\", \"OECD - Europe\")\n",
    "\n",
    "print(temp['Country'].unique())"
   ]
  },
  {
   "cell_type": "code",
   "execution_count": 29,
   "metadata": {},
   "outputs": [],
   "source": [
    "#Filtering to only include countries in OECD dataset\n",
    "temp_final = temp[temp['Country'].isin(OECD_countries)]"
   ]
  },
  {
   "cell_type": "code",
   "execution_count": 30,
   "metadata": {},
   "outputs": [
    {
     "data": {
      "text/plain": [
       "57"
      ]
     },
     "execution_count": 30,
     "metadata": {},
     "output_type": "execute_result"
    }
   ],
   "source": [
    "#Note: Korea and Slovak Republic are not in the second dataset, but exist in OECD.\n",
    "len(temp_final['Country'].unique())"
   ]
  },
  {
   "cell_type": "code",
   "execution_count": 31,
   "metadata": {},
   "outputs": [
    {
     "data": {
      "text/plain": [
       "<StringArray>\n",
       "[                   'Argentina',                    'Australia',\n",
       "                      'Austria',                      'Belarus',\n",
       "                      'Belgium',                       'Brazil',\n",
       "                     'Bulgaria',                       'Canada',\n",
       "                        'Chile', \"China (People's Republic of)\",\n",
       "                     'Colombia',                   'Costa Rica',\n",
       "                      'Croatia',                       'Cyprus',\n",
       "               'Czech Republic',                      'Denmark',\n",
       "                      'Estonia',                'OECD - Europe',\n",
       "                      'Finland',                       'France',\n",
       "                      'Germany',                       'Greece',\n",
       "                      'Hungary',                      'Iceland',\n",
       "                        'India',                    'Indonesia',\n",
       "                         'Iran',                      'Ireland',\n",
       "                       'Israel',                        'Italy',\n",
       "                        'Japan',                   'Kazakhstan',\n",
       "                       'Latvia',                'Liechtenstein',\n",
       "                    'Lithuania',                   'Luxembourg',\n",
       "                        'Malta',                       'Mexico',\n",
       "                       'Monaco',                  'Netherlands',\n",
       "                  'New Zealand',                       'Norway',\n",
       "                         'Peru',                       'Poland',\n",
       "                     'Portugal',                      'Romania',\n",
       "                       'Russia',                 'Saudi Arabia',\n",
       "                     'Slovenia',                 'South Africa',\n",
       "                        'Spain',                       'Sweden',\n",
       "                  'Switzerland',                      'Türkiye',\n",
       "                      'Ukraine',               'United Kingdom',\n",
       "                'United States']\n",
       "Length: 57, dtype: string"
      ]
     },
     "execution_count": 31,
     "metadata": {},
     "output_type": "execute_result"
    }
   ],
   "source": [
    "temp_final['Country'].unique()"
   ]
  },
  {
   "cell_type": "code",
   "execution_count": 32,
   "metadata": {},
   "outputs": [
    {
     "name": "stdout",
     "output_type": "stream",
     "text": [
      "<class 'pandas.core.frame.DataFrame'>\n",
      "Int64Index: 16245 entries, 27082 to 557820\n",
      "Data columns (total 6 columns):\n",
      " #   Column                         Non-Null Count  Dtype  \n",
      "---  ------                         --------------  -----  \n",
      " 0   AverageTemperature             16192 non-null  float64\n",
      " 1   AverageTemperatureUncertainty  16192 non-null  float64\n",
      " 2   Country                        16245 non-null  string \n",
      " 3   TempYear                       16245 non-null  int64  \n",
      " 4   TempMonth                      16245 non-null  int64  \n",
      " 5   TempDay                        16245 non-null  int64  \n",
      "dtypes: float64(2), int64(3), string(1)\n",
      "memory usage: 888.4 KB\n"
     ]
    }
   ],
   "source": [
    "#Final validation\n",
    "temp_final.info()"
   ]
  },
  {
   "cell_type": "code",
   "execution_count": 33,
   "metadata": {},
   "outputs": [
    {
     "data": {
      "text/html": [
       "<div>\n",
       "<style scoped>\n",
       "    .dataframe tbody tr th:only-of-type {\n",
       "        vertical-align: middle;\n",
       "    }\n",
       "\n",
       "    .dataframe tbody tr th {\n",
       "        vertical-align: top;\n",
       "    }\n",
       "\n",
       "    .dataframe thead th {\n",
       "        text-align: right;\n",
       "    }\n",
       "</style>\n",
       "<table border=\"1\" class=\"dataframe\">\n",
       "  <thead>\n",
       "    <tr style=\"text-align: right;\">\n",
       "      <th></th>\n",
       "      <th>AverageTemperature</th>\n",
       "      <th>AverageTemperatureUncertainty</th>\n",
       "      <th>Country</th>\n",
       "      <th>TempYear</th>\n",
       "      <th>TempMonth</th>\n",
       "      <th>TempDay</th>\n",
       "    </tr>\n",
       "  </thead>\n",
       "  <tbody>\n",
       "    <tr>\n",
       "      <th>27082</th>\n",
       "      <td>22.032</td>\n",
       "      <td>0.189</td>\n",
       "      <td>Argentina</td>\n",
       "      <td>1990</td>\n",
       "      <td>1</td>\n",
       "      <td>1</td>\n",
       "    </tr>\n",
       "    <tr>\n",
       "      <th>27083</th>\n",
       "      <td>20.844</td>\n",
       "      <td>0.190</td>\n",
       "      <td>Argentina</td>\n",
       "      <td>1990</td>\n",
       "      <td>2</td>\n",
       "      <td>1</td>\n",
       "    </tr>\n",
       "    <tr>\n",
       "      <th>27084</th>\n",
       "      <td>18.194</td>\n",
       "      <td>0.240</td>\n",
       "      <td>Argentina</td>\n",
       "      <td>1990</td>\n",
       "      <td>3</td>\n",
       "      <td>1</td>\n",
       "    </tr>\n",
       "    <tr>\n",
       "      <th>27085</th>\n",
       "      <td>14.242</td>\n",
       "      <td>0.228</td>\n",
       "      <td>Argentina</td>\n",
       "      <td>1990</td>\n",
       "      <td>4</td>\n",
       "      <td>1</td>\n",
       "    </tr>\n",
       "    <tr>\n",
       "      <th>27086</th>\n",
       "      <td>10.831</td>\n",
       "      <td>0.226</td>\n",
       "      <td>Argentina</td>\n",
       "      <td>1990</td>\n",
       "      <td>5</td>\n",
       "      <td>1</td>\n",
       "    </tr>\n",
       "  </tbody>\n",
       "</table>\n",
       "</div>"
      ],
      "text/plain": [
       "       AverageTemperature  AverageTemperatureUncertainty    Country  TempYear  \\\n",
       "27082              22.032                          0.189  Argentina      1990   \n",
       "27083              20.844                          0.190  Argentina      1990   \n",
       "27084              18.194                          0.240  Argentina      1990   \n",
       "27085              14.242                          0.228  Argentina      1990   \n",
       "27086              10.831                          0.226  Argentina      1990   \n",
       "\n",
       "       TempMonth  TempDay  \n",
       "27082          1        1  \n",
       "27083          2        1  \n",
       "27084          3        1  \n",
       "27085          4        1  \n",
       "27086          5        1  "
      ]
     },
     "execution_count": 33,
     "metadata": {},
     "output_type": "execute_result"
    }
   ],
   "source": [
    "#Final view\n",
    "temp_final.head()"
   ]
  },
  {
   "cell_type": "code",
   "execution_count": 34,
   "metadata": {},
   "outputs": [],
   "source": [
    "temp_final.to_csv('temperatures_data_cleaned.csv')"
   ]
  },
  {
   "cell_type": "markdown",
   "metadata": {},
   "source": [
    "### Connecting the Postgres SQL Database"
   ]
  },
  {
   "cell_type": "code",
   "execution_count": null,
   "metadata": {},
   "outputs": [],
   "source": [
    "pip install psycopg2-binary "
   ]
  },
  {
   "cell_type": "code",
   "execution_count": null,
   "metadata": {},
   "outputs": [],
   "source": [
    "import psycopg2\n",
    "\n",
    "conn = psycopg2.connect(database='midterm_db', user='jessicacamacho', password='j3ssbeginner518', host='127.0.0.1/', port=\"49726\")\n",
    "cursor = conn.cursor()\n",
    "\n",
    "cursor.execute('SELECT COUNT(Country) as count FROM Members WHERE id = 1')#edit to contain our queries\n",
    "row = cursor.fetchone()\n",
    "\n",
    "conn.close()\n",
    "\n",
    "print(row)"
   ]
  },
  {
   "cell_type": "code",
   "execution_count": null,
   "metadata": {},
   "outputs": [],
   "source": []
  },
  {
   "cell_type": "code",
   "execution_count": null,
   "metadata": {},
   "outputs": [],
   "source": []
  }
 ],
 "metadata": {
  "kernelspec": {
   "display_name": "Python 3",
   "language": "python",
   "name": "python3"
  },
  "language_info": {
   "codemirror_mode": {
    "name": "ipython",
    "version": 3
   },
   "file_extension": ".py",
   "mimetype": "text/x-python",
   "name": "python",
   "nbconvert_exporter": "python",
   "pygments_lexer": "ipython3",
   "version": "3.7.4"
  }
 },
 "nbformat": 4,
 "nbformat_minor": 2
}
