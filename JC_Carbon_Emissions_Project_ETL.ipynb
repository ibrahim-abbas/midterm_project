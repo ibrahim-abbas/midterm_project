{
 "cells": [
  {
   "cell_type": "markdown",
   "metadata": {},
   "source": [
    "# Global Carbon Emissions & Temperatures Midterm Project ETL"
   ]
  },
  {
   "cell_type": "code",
   "execution_count": 1,
   "metadata": {},
   "outputs": [],
   "source": [
    "import pandas as pd"
   ]
  },
  {
   "cell_type": "code",
   "execution_count": 2,
   "metadata": {},
   "outputs": [],
   "source": [
    "OECD = pd.read_csv ('Resources/AIR_GHG_OECD.csv')"
   ]
  },
  {
   "cell_type": "code",
   "execution_count": 3,
   "metadata": {},
   "outputs": [
    {
     "data": {
      "text/html": [
       "<div>\n",
       "<style scoped>\n",
       "    .dataframe tbody tr th:only-of-type {\n",
       "        vertical-align: middle;\n",
       "    }\n",
       "\n",
       "    .dataframe tbody tr th {\n",
       "        vertical-align: top;\n",
       "    }\n",
       "\n",
       "    .dataframe thead th {\n",
       "        text-align: right;\n",
       "    }\n",
       "</style>\n",
       "<table border=\"1\" class=\"dataframe\">\n",
       "  <thead>\n",
       "    <tr style=\"text-align: right;\">\n",
       "      <th></th>\n",
       "      <th>COU</th>\n",
       "      <th>Country</th>\n",
       "      <th>POL</th>\n",
       "      <th>Pollutant</th>\n",
       "      <th>VAR</th>\n",
       "      <th>Variable</th>\n",
       "      <th>YEA</th>\n",
       "      <th>Year</th>\n",
       "      <th>Unit Code</th>\n",
       "      <th>Unit</th>\n",
       "      <th>PowerCode Code</th>\n",
       "      <th>PowerCode</th>\n",
       "      <th>Reference Period Code</th>\n",
       "      <th>Reference Period</th>\n",
       "      <th>Value</th>\n",
       "      <th>Flag Codes</th>\n",
       "      <th>Flags</th>\n",
       "    </tr>\n",
       "  </thead>\n",
       "  <tbody>\n",
       "    <tr>\n",
       "      <th>0</th>\n",
       "      <td>AUS</td>\n",
       "      <td>Australia</td>\n",
       "      <td>GHG</td>\n",
       "      <td>Greenhouse gases</td>\n",
       "      <td>TOTAL</td>\n",
       "      <td>Total  emissions excluding LULUCF</td>\n",
       "      <td>1990</td>\n",
       "      <td>1990</td>\n",
       "      <td>T_CO2_EQVT</td>\n",
       "      <td>Tonnes of CO2 equivalent</td>\n",
       "      <td>3</td>\n",
       "      <td>Thousands</td>\n",
       "      <td>NaN</td>\n",
       "      <td>NaN</td>\n",
       "      <td>425624.307</td>\n",
       "      <td>NaN</td>\n",
       "      <td>NaN</td>\n",
       "    </tr>\n",
       "    <tr>\n",
       "      <th>1</th>\n",
       "      <td>AUS</td>\n",
       "      <td>Australia</td>\n",
       "      <td>GHG</td>\n",
       "      <td>Greenhouse gases</td>\n",
       "      <td>TOTAL</td>\n",
       "      <td>Total  emissions excluding LULUCF</td>\n",
       "      <td>1991</td>\n",
       "      <td>1991</td>\n",
       "      <td>T_CO2_EQVT</td>\n",
       "      <td>Tonnes of CO2 equivalent</td>\n",
       "      <td>3</td>\n",
       "      <td>Thousands</td>\n",
       "      <td>NaN</td>\n",
       "      <td>NaN</td>\n",
       "      <td>425686.445</td>\n",
       "      <td>NaN</td>\n",
       "      <td>NaN</td>\n",
       "    </tr>\n",
       "    <tr>\n",
       "      <th>2</th>\n",
       "      <td>AUS</td>\n",
       "      <td>Australia</td>\n",
       "      <td>GHG</td>\n",
       "      <td>Greenhouse gases</td>\n",
       "      <td>TOTAL</td>\n",
       "      <td>Total  emissions excluding LULUCF</td>\n",
       "      <td>1992</td>\n",
       "      <td>1992</td>\n",
       "      <td>T_CO2_EQVT</td>\n",
       "      <td>Tonnes of CO2 equivalent</td>\n",
       "      <td>3</td>\n",
       "      <td>Thousands</td>\n",
       "      <td>NaN</td>\n",
       "      <td>NaN</td>\n",
       "      <td>429473.085</td>\n",
       "      <td>NaN</td>\n",
       "      <td>NaN</td>\n",
       "    </tr>\n",
       "    <tr>\n",
       "      <th>3</th>\n",
       "      <td>AUS</td>\n",
       "      <td>Australia</td>\n",
       "      <td>GHG</td>\n",
       "      <td>Greenhouse gases</td>\n",
       "      <td>TOTAL</td>\n",
       "      <td>Total  emissions excluding LULUCF</td>\n",
       "      <td>1993</td>\n",
       "      <td>1993</td>\n",
       "      <td>T_CO2_EQVT</td>\n",
       "      <td>Tonnes of CO2 equivalent</td>\n",
       "      <td>3</td>\n",
       "      <td>Thousands</td>\n",
       "      <td>NaN</td>\n",
       "      <td>NaN</td>\n",
       "      <td>430381.731</td>\n",
       "      <td>NaN</td>\n",
       "      <td>NaN</td>\n",
       "    </tr>\n",
       "    <tr>\n",
       "      <th>4</th>\n",
       "      <td>AUS</td>\n",
       "      <td>Australia</td>\n",
       "      <td>GHG</td>\n",
       "      <td>Greenhouse gases</td>\n",
       "      <td>TOTAL</td>\n",
       "      <td>Total  emissions excluding LULUCF</td>\n",
       "      <td>1994</td>\n",
       "      <td>1994</td>\n",
       "      <td>T_CO2_EQVT</td>\n",
       "      <td>Tonnes of CO2 equivalent</td>\n",
       "      <td>3</td>\n",
       "      <td>Thousands</td>\n",
       "      <td>NaN</td>\n",
       "      <td>NaN</td>\n",
       "      <td>430848.498</td>\n",
       "      <td>NaN</td>\n",
       "      <td>NaN</td>\n",
       "    </tr>\n",
       "  </tbody>\n",
       "</table>\n",
       "</div>"
      ],
      "text/plain": [
       "   COU    Country  POL         Pollutant    VAR  \\\n",
       "0  AUS  Australia  GHG  Greenhouse gases  TOTAL   \n",
       "1  AUS  Australia  GHG  Greenhouse gases  TOTAL   \n",
       "2  AUS  Australia  GHG  Greenhouse gases  TOTAL   \n",
       "3  AUS  Australia  GHG  Greenhouse gases  TOTAL   \n",
       "4  AUS  Australia  GHG  Greenhouse gases  TOTAL   \n",
       "\n",
       "                            Variable   YEA  Year   Unit Code  \\\n",
       "0  Total  emissions excluding LULUCF  1990  1990  T_CO2_EQVT   \n",
       "1  Total  emissions excluding LULUCF  1991  1991  T_CO2_EQVT   \n",
       "2  Total  emissions excluding LULUCF  1992  1992  T_CO2_EQVT   \n",
       "3  Total  emissions excluding LULUCF  1993  1993  T_CO2_EQVT   \n",
       "4  Total  emissions excluding LULUCF  1994  1994  T_CO2_EQVT   \n",
       "\n",
       "                       Unit  PowerCode Code  PowerCode  Reference Period Code  \\\n",
       "0  Tonnes of CO2 equivalent               3  Thousands                    NaN   \n",
       "1  Tonnes of CO2 equivalent               3  Thousands                    NaN   \n",
       "2  Tonnes of CO2 equivalent               3  Thousands                    NaN   \n",
       "3  Tonnes of CO2 equivalent               3  Thousands                    NaN   \n",
       "4  Tonnes of CO2 equivalent               3  Thousands                    NaN   \n",
       "\n",
       "   Reference Period       Value Flag Codes Flags  \n",
       "0               NaN  425624.307        NaN   NaN  \n",
       "1               NaN  425686.445        NaN   NaN  \n",
       "2               NaN  429473.085        NaN   NaN  \n",
       "3               NaN  430381.731        NaN   NaN  \n",
       "4               NaN  430848.498        NaN   NaN  "
      ]
     },
     "execution_count": 3,
     "metadata": {},
     "output_type": "execute_result"
    }
   ],
   "source": [
    "OECD.head()"
   ]
  },
  {
   "cell_type": "code",
   "execution_count": 4,
   "metadata": {},
   "outputs": [
    {
     "name": "stdout",
     "output_type": "stream",
     "text": [
      "<class 'pandas.core.frame.DataFrame'>\n",
      "RangeIndex: 75691 entries, 0 to 75690\n",
      "Data columns (total 17 columns):\n",
      " #   Column                 Non-Null Count  Dtype  \n",
      "---  ------                 --------------  -----  \n",
      " 0   COU                    75691 non-null  object \n",
      " 1   Country                75691 non-null  object \n",
      " 2   POL                    75691 non-null  object \n",
      " 3   Pollutant              75691 non-null  object \n",
      " 4   VAR                    75691 non-null  object \n",
      " 5   Variable               75691 non-null  object \n",
      " 6   YEA                    75691 non-null  int64  \n",
      " 7   Year                   75691 non-null  int64  \n",
      " 8   Unit Code              72758 non-null  object \n",
      " 9   Unit                   72758 non-null  object \n",
      " 10  PowerCode Code         75691 non-null  int64  \n",
      " 11  PowerCode              75691 non-null  object \n",
      " 12  Reference Period Code  0 non-null      float64\n",
      " 13  Reference Period       0 non-null      float64\n",
      " 14  Value                  75691 non-null  float64\n",
      " 15  Flag Codes             4 non-null      object \n",
      " 16  Flags                  4 non-null      object \n",
      "dtypes: float64(3), int64(3), object(11)\n",
      "memory usage: 9.8+ MB\n"
     ]
    }
   ],
   "source": [
    "OECD.info()"
   ]
  },
  {
   "cell_type": "code",
   "execution_count": 5,
   "metadata": {},
   "outputs": [
    {
     "name": "stdout",
     "output_type": "stream",
     "text": [
      "Greenhouse gases\n",
      "Carbon dioxide\n",
      "Methane\n",
      "Nitrous oxide\n",
      "Hydrofluorocarbons\n",
      "Perfluorocarbons\n",
      "Sulphur hexafluoride\n",
      "Nitrogen trifluoride\n",
      "Unspecified mix of HFCs and PFCs\n"
     ]
    }
   ],
   "source": [
    "emission_types = OECD['Pollutant'].unique()\n",
    "for each_type in emission_types:\n",
    "    print(each_type)"
   ]
  },
  {
   "cell_type": "code",
   "execution_count": 6,
   "metadata": {},
   "outputs": [],
   "source": [
    "#Drop the repetitive columns with exception of country code (rename as abbreviation)\n",
    "OECD = OECD.drop(['COU','POL', 'VAR','YEA','Unit Code','PowerCode Code','Reference Period','Reference Period Code','Flag Codes','Flags'], axis=1)"
   ]
  },
  {
   "cell_type": "code",
   "execution_count": 7,
   "metadata": {},
   "outputs": [
    {
     "data": {
      "text/html": [
       "<div>\n",
       "<style scoped>\n",
       "    .dataframe tbody tr th:only-of-type {\n",
       "        vertical-align: middle;\n",
       "    }\n",
       "\n",
       "    .dataframe tbody tr th {\n",
       "        vertical-align: top;\n",
       "    }\n",
       "\n",
       "    .dataframe thead th {\n",
       "        text-align: right;\n",
       "    }\n",
       "</style>\n",
       "<table border=\"1\" class=\"dataframe\">\n",
       "  <thead>\n",
       "    <tr style=\"text-align: right;\">\n",
       "      <th></th>\n",
       "      <th>Country</th>\n",
       "      <th>Pollutant</th>\n",
       "      <th>Variable</th>\n",
       "      <th>Year</th>\n",
       "      <th>Unit</th>\n",
       "      <th>PowerCode</th>\n",
       "      <th>Value</th>\n",
       "    </tr>\n",
       "  </thead>\n",
       "  <tbody>\n",
       "    <tr>\n",
       "      <th>0</th>\n",
       "      <td>Australia</td>\n",
       "      <td>Greenhouse gases</td>\n",
       "      <td>Total  emissions excluding LULUCF</td>\n",
       "      <td>1990</td>\n",
       "      <td>Tonnes of CO2 equivalent</td>\n",
       "      <td>Thousands</td>\n",
       "      <td>425624.307</td>\n",
       "    </tr>\n",
       "    <tr>\n",
       "      <th>1</th>\n",
       "      <td>Australia</td>\n",
       "      <td>Greenhouse gases</td>\n",
       "      <td>Total  emissions excluding LULUCF</td>\n",
       "      <td>1991</td>\n",
       "      <td>Tonnes of CO2 equivalent</td>\n",
       "      <td>Thousands</td>\n",
       "      <td>425686.445</td>\n",
       "    </tr>\n",
       "    <tr>\n",
       "      <th>2</th>\n",
       "      <td>Australia</td>\n",
       "      <td>Greenhouse gases</td>\n",
       "      <td>Total  emissions excluding LULUCF</td>\n",
       "      <td>1992</td>\n",
       "      <td>Tonnes of CO2 equivalent</td>\n",
       "      <td>Thousands</td>\n",
       "      <td>429473.085</td>\n",
       "    </tr>\n",
       "    <tr>\n",
       "      <th>3</th>\n",
       "      <td>Australia</td>\n",
       "      <td>Greenhouse gases</td>\n",
       "      <td>Total  emissions excluding LULUCF</td>\n",
       "      <td>1993</td>\n",
       "      <td>Tonnes of CO2 equivalent</td>\n",
       "      <td>Thousands</td>\n",
       "      <td>430381.731</td>\n",
       "    </tr>\n",
       "    <tr>\n",
       "      <th>4</th>\n",
       "      <td>Australia</td>\n",
       "      <td>Greenhouse gases</td>\n",
       "      <td>Total  emissions excluding LULUCF</td>\n",
       "      <td>1994</td>\n",
       "      <td>Tonnes of CO2 equivalent</td>\n",
       "      <td>Thousands</td>\n",
       "      <td>430848.498</td>\n",
       "    </tr>\n",
       "  </tbody>\n",
       "</table>\n",
       "</div>"
      ],
      "text/plain": [
       "     Country         Pollutant                           Variable  Year  \\\n",
       "0  Australia  Greenhouse gases  Total  emissions excluding LULUCF  1990   \n",
       "1  Australia  Greenhouse gases  Total  emissions excluding LULUCF  1991   \n",
       "2  Australia  Greenhouse gases  Total  emissions excluding LULUCF  1992   \n",
       "3  Australia  Greenhouse gases  Total  emissions excluding LULUCF  1993   \n",
       "4  Australia  Greenhouse gases  Total  emissions excluding LULUCF  1994   \n",
       "\n",
       "                       Unit  PowerCode       Value  \n",
       "0  Tonnes of CO2 equivalent  Thousands  425624.307  \n",
       "1  Tonnes of CO2 equivalent  Thousands  425686.445  \n",
       "2  Tonnes of CO2 equivalent  Thousands  429473.085  \n",
       "3  Tonnes of CO2 equivalent  Thousands  430381.731  \n",
       "4  Tonnes of CO2 equivalent  Thousands  430848.498  "
      ]
     },
     "execution_count": 7,
     "metadata": {},
     "output_type": "execute_result"
    }
   ],
   "source": [
    "OECD.head()"
   ]
  },
  {
   "cell_type": "code",
   "execution_count": 8,
   "metadata": {},
   "outputs": [
    {
     "name": "stdout",
     "output_type": "stream",
     "text": [
      "<class 'pandas.core.frame.DataFrame'>\n",
      "RangeIndex: 75691 entries, 0 to 75690\n",
      "Data columns (total 7 columns):\n",
      " #   Column     Non-Null Count  Dtype  \n",
      "---  ------     --------------  -----  \n",
      " 0   Country    75691 non-null  object \n",
      " 1   Pollutant  75691 non-null  object \n",
      " 2   Variable   75691 non-null  object \n",
      " 3   Year       75691 non-null  int64  \n",
      " 4   Unit       72758 non-null  object \n",
      " 5   PowerCode  75691 non-null  object \n",
      " 6   Value      75691 non-null  float64\n",
      "dtypes: float64(1), int64(1), object(5)\n",
      "memory usage: 4.0+ MB\n"
     ]
    }
   ],
   "source": [
    "OECD.info()"
   ]
  },
  {
   "cell_type": "code",
   "execution_count": 10,
   "metadata": {},
   "outputs": [],
   "source": [
    "#Note: We have 2,933 null values for the \"Value\" field in this table."
   ]
  },
  {
   "cell_type": "code",
   "execution_count": 11,
   "metadata": {},
   "outputs": [],
   "source": [
    "#This is only carbon dioxide pollutant. There are other greenhouse gasses in this dataset.\n",
    "OECD_Carbon = OECD[OECD['Pollutant']=='Carbon dioxide']"
   ]
  },
  {
   "cell_type": "code",
   "execution_count": 12,
   "metadata": {},
   "outputs": [
    {
     "name": "stdout",
     "output_type": "stream",
     "text": [
      "<class 'pandas.core.frame.DataFrame'>\n",
      "Int64Index: 4791 entries, 93 to 74951\n",
      "Data columns (total 7 columns):\n",
      " #   Column     Non-Null Count  Dtype  \n",
      "---  ------     --------------  -----  \n",
      " 0   Country    4791 non-null   object \n",
      " 1   Pollutant  4791 non-null   object \n",
      " 2   Variable   4791 non-null   object \n",
      " 3   Year       4791 non-null   int64  \n",
      " 4   Unit       4791 non-null   object \n",
      " 5   PowerCode  4791 non-null   object \n",
      " 6   Value      4791 non-null   float64\n",
      "dtypes: float64(1), int64(1), object(5)\n",
      "memory usage: 299.4+ KB\n"
     ]
    }
   ],
   "source": [
    "OECD_Carbon.info()"
   ]
  },
  {
   "cell_type": "code",
   "execution_count": 16,
   "metadata": {},
   "outputs": [],
   "source": [
    "#Exporting to CSV File\n",
    "OECD.to_csv('oecd_data_cleaned')"
   ]
  },
  {
   "cell_type": "markdown",
   "metadata": {},
   "source": [
    "### Connecting the Postgres SQL Database"
   ]
  },
  {
   "cell_type": "code",
   "execution_count": 14,
   "metadata": {},
   "outputs": [
    {
     "name": "stdout",
     "output_type": "stream",
     "text": [
      "Collecting psycopg2-binary\n",
      "\u001b[?25l  Downloading https://files.pythonhosted.org/packages/6d/cc/a7f2255524bf40936ea3ff81dabca321846f1a7d14166b8ddaae4514b6c5/psycopg2_binary-2.9.3-cp37-cp37m-macosx_10_14_x86_64.macosx_10_9_intel.macosx_10_9_x86_64.macosx_10_10_intel.macosx_10_10_x86_64.whl (2.2MB)\n",
      "\u001b[K     |████████████████████████████████| 2.2MB 1.5MB/s eta 0:00:01\n",
      "\u001b[?25hInstalling collected packages: psycopg2-binary\n",
      "Successfully installed psycopg2-binary-2.9.3\n",
      "Note: you may need to restart the kernel to use updated packages.\n"
     ]
    }
   ],
   "source": [
    "pip install psycopg2-binary "
   ]
  },
  {
   "cell_type": "code",
   "execution_count": 17,
   "metadata": {},
   "outputs": [],
   "source": [
    "import psycopg2\n",
    "\n",
    "# conn = psycopg2.connect(database=OECD, user=jessicacamacho, password='password', host=host, port=\"5432\")\n",
    "# cursor = conn.cursor()\n",
    "\n",
    "# cursor.execute('SELECT COUNT(MemberID) as count FROM Members WHERE id = 1')\n",
    "# row = cursor.fetchone()\n",
    "\n",
    "# conn.close()\n",
    "\n",
    "# print(row)"
   ]
  },
  {
   "cell_type": "code",
   "execution_count": null,
   "metadata": {},
   "outputs": [],
   "source": []
  }
 ],
 "metadata": {
  "kernelspec": {
   "display_name": "Python 3",
   "language": "python",
   "name": "python3"
  },
  "language_info": {
   "codemirror_mode": {
    "name": "ipython",
    "version": 3
   },
   "file_extension": ".py",
   "mimetype": "text/x-python",
   "name": "python",
   "nbconvert_exporter": "python",
   "pygments_lexer": "ipython3",
   "version": "3.7.4"
  }
 },
 "nbformat": 4,
 "nbformat_minor": 2
}
