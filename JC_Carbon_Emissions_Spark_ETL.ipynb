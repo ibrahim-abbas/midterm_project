{
  "nbformat": 4,
  "nbformat_minor": 0,
  "metadata": {
    "colab": {
      "provenance": [],
      "collapsed_sections": []
    },
    "kernelspec": {
      "name": "python3",
      "display_name": "Python 3"
    },
    "language_info": {
      "name": "python"
    }
  },
  "cells": [
    {
      "cell_type": "markdown",
      "source": [
        "# Final Emissions ETL"
      ],
      "metadata": {
        "id": "_e9MwNlZP1tL"
      }
    },
    {
      "cell_type": "code",
      "execution_count": 56,
      "metadata": {
        "colab": {
          "base_uri": "https://localhost:8080/"
        },
        "id": "UpczzVZZuEzG",
        "outputId": "33afbe2e-e577-45fd-d2a1-e6c07e888b11"
      },
      "outputs": [
        {
          "output_type": "stream",
          "name": "stdout",
          "text": [
            "\r0% [Working]\r            \rGet:1 http://security.ubuntu.com/ubuntu bionic-security InRelease [88.7 kB]\n",
            "\r0% [Connecting to archive.ubuntu.com (185.125.190.39)] [1 InRelease 14.2 kB/88.\r                                                                               \rHit:2 https://cloud.r-project.org/bin/linux/ubuntu bionic-cran40/ InRelease\n",
            "\r0% [Connecting to archive.ubuntu.com (185.125.190.39)] [1 InRelease 14.2 kB/88.\r0% [2 InRelease gpgv 3,626 B] [Waiting for headers] [1 InRelease 14.2 kB/88.7 k\r                                                                               \rIgn:3 https://developer.download.nvidia.com/compute/machine-learning/repos/ubuntu1804/x86_64  InRelease\n",
            "\r0% [2 InRelease gpgv 3,626 B] [Waiting for headers] [1 InRelease 46.0 kB/88.7 k\r                                                                               \rHit:4 https://developer.download.nvidia.com/compute/cuda/repos/ubuntu1804/x86_64  InRelease\n",
            "\r0% [2 InRelease gpgv 3,626 B] [Waiting for headers] [1 InRelease 60.5 kB/88.7 k\r                                                                               \rHit:5 https://developer.download.nvidia.com/compute/machine-learning/repos/ubuntu1804/x86_64  Release\n",
            "\r0% [2 InRelease gpgv 3,626 B] [Waiting for headers] [1 InRelease 77.9 kB/88.7 k\r                                                                               \r0% [2 InRelease gpgv 3,626 B] [Waiting for headers] [Waiting for headers]\r                                                                         \rHit:6 http://ppa.launchpad.net/c2d4u.team/c2d4u4.0+/ubuntu bionic InRelease\n",
            "Hit:7 http://archive.ubuntu.com/ubuntu bionic InRelease\n",
            "Get:8 http://archive.ubuntu.com/ubuntu bionic-updates InRelease [88.7 kB]\n",
            "Hit:9 http://ppa.launchpad.net/cran/libgit2/ubuntu bionic InRelease\n",
            "Hit:10 http://ppa.launchpad.net/deadsnakes/ppa/ubuntu bionic InRelease\n",
            "Get:11 http://archive.ubuntu.com/ubuntu bionic-backports InRelease [83.3 kB]\n",
            "Hit:13 http://ppa.launchpad.net/graphics-drivers/ppa/ubuntu bionic InRelease\n",
            "Get:14 http://archive.ubuntu.com/ubuntu bionic-updates/universe amd64 Packages [2,324 kB]\n",
            "Get:15 http://archive.ubuntu.com/ubuntu bionic-updates/main amd64 Packages [3,425 kB]\n",
            "Fetched 6,009 kB in 3s (1,943 kB/s)\n",
            "Reading package lists... Done\n"
          ]
        }
      ],
      "source": [
        "import os\n",
        "# Find the latest version of spark 3.0  from http://www.apache.org/dist/spark/ and enter as the spark version\n",
        "# For example: 'spark-3.2.2'\n",
        "spark_version = 'spark-3.2.2'\n",
        "# spark_version = 'spark-3.<enter version>'\n",
        "os.environ['SPARK_VERSION']=spark_version\n",
        "\n",
        "# Install Spark and Java\n",
        "!apt-get update\n",
        "!apt-get install openjdk-11-jdk-headless -qq > /dev/null\n",
        "!wget -q http://www.apache.org/dist/spark/$SPARK_VERSION/$SPARK_VERSION-bin-hadoop3.2.tgz\n",
        "!tar xf $SPARK_VERSION-bin-hadoop3.2.tgz\n",
        "!pip install -q findspark\n",
        "\n",
        "# Set Environment Variables\n",
        "os.environ[\"JAVA_HOME\"] = \"/usr/lib/jvm/java-11-openjdk-amd64\"\n",
        "os.environ[\"SPARK_HOME\"] = f\"/content/{spark_version}-bin-hadoop3.2\"\n",
        "\n",
        "# Start a SparkSession\n",
        "import findspark\n",
        "findspark.init()"
      ]
    },
    {
      "cell_type": "code",
      "source": [
        "# Import SparkSession and great expectations \n",
        "from pyspark.sql import SparkSession\n",
        "\n",
        "# Create a SparkSession\n",
        "spark = SparkSession.builder.appName(\"SparkSQL\").getOrCreate()\n",
        "# Start Spark session\n",
        "from pyspark import SparkFiles"
      ],
      "metadata": {
        "id": "gcu5NHy7utzr"
      },
      "execution_count": 57,
      "outputs": []
    },
    {
      "cell_type": "code",
      "source": [
        "import time\n",
        "start_time = time.time()"
      ],
      "metadata": {
        "id": "WkjyJfKB1ZgT"
      },
      "execution_count": 58,
      "outputs": []
    },
    {
      "cell_type": "markdown",
      "source": [
        "### Pytest for Emissions and Temp Datasets"
      ],
      "metadata": {
        "id": "AuJFt-HcPtYH"
      }
    },
    {
      "cell_type": "code",
      "source": [
        "%%file midterm_data.py\n",
        "# Import findspark() and initialize. \n",
        "import findspark\n",
        "findspark.init()\n",
        "\n",
        "# Import other dependencies. \n",
        "from pyspark import SparkFiles\n",
        "from pyspark.sql import SparkSession\n",
        "spark = SparkSession.builder.appName(\"sparkBankData\").getOrCreate()\n",
        "\n",
        "def data_emissions():\n",
        "  emissions = spark.read.csv('oecd_data_cleaned.csv', header=True)\n",
        "  return emissions\n",
        "\n",
        "def data_temp():\n",
        "  temp_by_yr = spark.read.csv('Temp_by_Year.csv', header=True)\n",
        "  return temp_by_yr\n"
      ],
      "metadata": {
        "colab": {
          "base_uri": "https://localhost:8080/"
        },
        "id": "ZHrkhjSm40D7",
        "outputId": "09519505-8534-40bb-f446-77c7ba5be0c3"
      },
      "execution_count": 88,
      "outputs": [
        {
          "output_type": "stream",
          "name": "stdout",
          "text": [
            "1368\n"
          ]
        }
      ]
    },
    {
      "cell_type": "code",
      "source": [
        "%%file testing_midterm_data.py\n",
        "from midterm_data import data_emissions\n",
        "from midterm_data import data_temp\n",
        "\n",
        "def test_data_emissions():\n",
        "  df = data_emissions()\n",
        "  assert df.count() > 1368 #Includes other types of greenhouse gasses\n",
        "\n",
        "def test_data_temp():\n",
        "  df = data_temp()\n",
        "  assert df.count() == 1368 #57 countries * 24 years = 1368 rows of data\n"
      ],
      "metadata": {
        "colab": {
          "base_uri": "https://localhost:8080/"
        },
        "id": "yRzQ0OeENRno",
        "outputId": "986044a9-cbb2-42a1-e8f4-64a677e031db"
      },
      "execution_count": 95,
      "outputs": [
        {
          "output_type": "stream",
          "name": "stdout",
          "text": [
            "Overwriting testing_midterm_data.py\n"
          ]
        }
      ]
    },
    {
      "cell_type": "code",
      "source": [
        "!python -m pytest testing_midterm_data.py"
      ],
      "metadata": {
        "colab": {
          "base_uri": "https://localhost:8080/"
        },
        "id": "m43qiqAAK0mN",
        "outputId": "fdf63f02-7291-4515-e6c0-bf31146d4aab"
      },
      "execution_count": 96,
      "outputs": [
        {
          "output_type": "stream",
          "name": "stdout",
          "text": [
            "\u001b[1m============================= test session starts ==============================\u001b[0m\n",
            "platform linux -- Python 3.7.14, pytest-3.6.4, py-1.11.0, pluggy-0.7.1\n",
            "rootdir: /content, inifile:\n",
            "plugins: typeguard-2.7.1\n",
            "collected 2 items                                                              \u001b[0m\n",
            "\n",
            "testing_midterm_data.py ..\u001b[36m                                               [100%]\u001b[0m\n",
            "\n",
            "\u001b[32m\u001b[1m========================== 2 passed in 17.47 seconds ===========================\u001b[0m\n"
          ]
        }
      ]
    },
    {
      "cell_type": "markdown",
      "source": [
        "### SQL Queries on 4 Questions Using Views"
      ],
      "metadata": {
        "id": "vU8W7KLLQDJc"
      }
    },
    {
      "cell_type": "code",
      "source": [
        "emissions_df = spark.read.csv('oecd_data_cleaned.csv', header=True)\n"
      ],
      "metadata": {
        "id": "ghftG0iauyc3"
      },
      "execution_count": 59,
      "outputs": []
    },
    {
      "cell_type": "code",
      "source": [
        "emissions_df.show()"
      ],
      "metadata": {
        "colab": {
          "base_uri": "https://localhost:8080/"
        },
        "id": "zo_vrgW1vdl6",
        "outputId": "effb25ff-fccd-4891-d7fc-fd7d2464432c"
      },
      "execution_count": 60,
      "outputs": [
        {
          "output_type": "stream",
          "name": "stdout",
          "text": [
            "+---------+----------------+--------------------+------------+--------------------+---------+-----------+\n",
            "|  Country|       Pollutant|            Variable|Emissionyear|                Unit|PowerCode|Emissionval|\n",
            "+---------+----------------+--------------------+------------+--------------------+---------+-----------+\n",
            "|Australia|Greenhouse gases|Total  emissions ...|        1990|Tonnes of CO2 equ...|Thousands| 425624.307|\n",
            "|Australia|Greenhouse gases|Total  emissions ...|        1991|Tonnes of CO2 equ...|Thousands| 425686.445|\n",
            "|Australia|Greenhouse gases|Total  emissions ...|        1992|Tonnes of CO2 equ...|Thousands| 429473.085|\n",
            "|Australia|Greenhouse gases|Total  emissions ...|        1993|Tonnes of CO2 equ...|Thousands| 430381.731|\n",
            "|Australia|Greenhouse gases|Total  emissions ...|        1994|Tonnes of CO2 equ...|Thousands| 430848.498|\n",
            "|Australia|Greenhouse gases|Total  emissions ...|        1995|Tonnes of CO2 equ...|Thousands| 439269.878|\n",
            "|Australia|Greenhouse gases|Total  emissions ...|        1996|Tonnes of CO2 equ...|Thousands| 445847.225|\n",
            "|Australia|Greenhouse gases|Total  emissions ...|        1997|Tonnes of CO2 equ...|Thousands|  457864.51|\n",
            "|Australia|Greenhouse gases|Total  emissions ...|        1998|Tonnes of CO2 equ...|Thousands| 472145.832|\n",
            "|Australia|Greenhouse gases|Total  emissions ...|        1999|Tonnes of CO2 equ...|Thousands| 478136.875|\n",
            "|Australia|Greenhouse gases|Total  emissions ...|        2000|Tonnes of CO2 equ...|Thousands| 489528.649|\n",
            "|Australia|Greenhouse gases|Total  emissions ...|        2001|Tonnes of CO2 equ...|Thousands| 497352.025|\n",
            "|Australia|Greenhouse gases|Total  emissions ...|        2002|Tonnes of CO2 equ...|Thousands| 501000.843|\n",
            "|Australia|Greenhouse gases|Total  emissions ...|        2003|Tonnes of CO2 equ...|Thousands| 501128.976|\n",
            "|Australia|Greenhouse gases|Total  emissions ...|        2004|Tonnes of CO2 equ...|Thousands| 518408.438|\n",
            "|Australia|Greenhouse gases|Total  emissions ...|        2005|Tonnes of CO2 equ...|Thousands| 524811.845|\n",
            "|Australia|Greenhouse gases|Total  emissions ...|        2006|Tonnes of CO2 equ...|Thousands| 529240.641|\n",
            "|Australia|Greenhouse gases|Total  emissions ...|        2007|Tonnes of CO2 equ...|Thousands| 535807.552|\n",
            "|Australia|Greenhouse gases|Total  emissions ...|        2008|Tonnes of CO2 equ...|Thousands| 538590.714|\n",
            "|Australia|Greenhouse gases|Total  emissions ...|        2009|Tonnes of CO2 equ...|Thousands| 541475.792|\n",
            "+---------+----------------+--------------------+------------+--------------------+---------+-----------+\n",
            "only showing top 20 rows\n",
            "\n"
          ]
        }
      ]
    },
    {
      "cell_type": "code",
      "source": [
        "temperatures_df = spark.read.csv('temperatures_data_cleaned.csv', header=True)\n"
      ],
      "metadata": {
        "id": "ye8cx30yvj-t"
      },
      "execution_count": 61,
      "outputs": []
    },
    {
      "cell_type": "code",
      "source": [
        "temperatures_df.show()"
      ],
      "metadata": {
        "colab": {
          "base_uri": "https://localhost:8080/"
        },
        "id": "rppbbMtfv1Mo",
        "outputId": "fd4982c6-4a8b-4bd0-d0db-27b843d87372"
      },
      "execution_count": 62,
      "outputs": [
        {
          "output_type": "stream",
          "name": "stdout",
          "text": [
            "+------------------+-----------------------------+---------+--------+---------+-------+\n",
            "|AverageTemperature|AverageTemperatureUncertainty|  Country|Tempyear|Tempmonth|Tempday|\n",
            "+------------------+-----------------------------+---------+--------+---------+-------+\n",
            "|            22.032|                        0.189|Argentina|    1990|        1|      1|\n",
            "|            20.844|                         0.19|Argentina|    1990|        2|      1|\n",
            "|            18.194|                         0.24|Argentina|    1990|        3|      1|\n",
            "|            14.242|                        0.228|Argentina|    1990|        4|      1|\n",
            "|            10.831|                        0.226|Argentina|    1990|        5|      1|\n",
            "|             8.023|                        0.331|Argentina|    1990|        6|      1|\n",
            "|              7.88|                        0.154|Argentina|    1990|        7|      1|\n",
            "|            11.754|                        0.245|Argentina|    1990|        8|      1|\n",
            "|            11.703|                        0.291|Argentina|    1990|        9|      1|\n",
            "|            16.636|                        0.243|Argentina|    1990|       10|      1|\n",
            "|            19.229|                        0.269|Argentina|    1990|       11|      1|\n",
            "|            20.493|                        0.199|Argentina|    1990|       12|      1|\n",
            "|            21.354|                        0.122|Argentina|    1991|        1|      1|\n",
            "|            20.607|                        0.176|Argentina|    1991|        2|      1|\n",
            "|            19.525|                        0.147|Argentina|    1991|        3|      1|\n",
            "|            15.355|                        0.145|Argentina|    1991|        4|      1|\n",
            "|            12.574|                        0.212|Argentina|    1991|        5|      1|\n",
            "|             8.492|                        0.232|Argentina|    1991|        6|      1|\n",
            "|             7.849|                        0.171|Argentina|    1991|        7|      1|\n",
            "|              9.96|                        0.182|Argentina|    1991|        8|      1|\n",
            "+------------------+-----------------------------+---------+--------+---------+-------+\n",
            "only showing top 20 rows\n",
            "\n"
          ]
        }
      ]
    },
    {
      "cell_type": "code",
      "source": [
        "temp_by_yr = spark.read.csv('Temp_by_Year.csv', header=True)"
      ],
      "metadata": {
        "id": "vlNTdPJrwwVi"
      },
      "execution_count": 63,
      "outputs": []
    },
    {
      "cell_type": "code",
      "source": [
        "temp_by_yr.show()"
      ],
      "metadata": {
        "colab": {
          "base_uri": "https://localhost:8080/"
        },
        "id": "2XDlj0u6w355",
        "outputId": "369b9965-3bcb-4426-a255-8f9ba41ce9b6"
      },
      "execution_count": 64,
      "outputs": [
        {
          "output_type": "stream",
          "name": "stdout",
          "text": [
            "+---------+-----+------------------+-------------------+\n",
            "|  country|year_|   yearly_avg_temp|  yearly_avg_uncert|\n",
            "+---------+-----+------------------+-------------------+\n",
            "|Argentina| 1990|15.155083333333332|0.23374999999999999|\n",
            "|Argentina| 1991|15.097583333333338|              0.169|\n",
            "|Argentina| 1992|14.739166666666668|0.26233333333333336|\n",
            "|Argentina| 1993|15.098666666666668|0.20533333333333334|\n",
            "|Argentina| 1994|15.578666666666669|0.22458333333333333|\n",
            "|Argentina| 1995|15.149833333333333|0.22383333333333333|\n",
            "|Argentina| 1996|15.211583333333332|0.23149999999999996|\n",
            "|Argentina| 1997|15.620666666666667|0.20916666666666664|\n",
            "|Argentina| 1998|15.261750000000001|0.20041666666666666|\n",
            "|Argentina| 1999|15.064916666666667|0.19266666666666662|\n",
            "|Argentina| 2000|           14.7505|0.19799999999999998|\n",
            "|Argentina| 2001|15.370416666666666|0.21049999999999994|\n",
            "|Argentina| 2002|15.183750000000003|            0.19925|\n",
            "|Argentina| 2003|15.518333333333336| 0.2540833333333334|\n",
            "|Argentina| 2004|15.442166666666667|0.21541666666666662|\n",
            "|Argentina| 2005|15.112833333333334|0.19525000000000003|\n",
            "|Argentina| 2006|15.561083333333334|0.24191666666666667|\n",
            "|Argentina| 2007|14.628083333333336|0.18900000000000003|\n",
            "|Argentina| 2008|15.475999999999999|            0.20475|\n",
            "|Argentina| 2009|15.534416666666667|0.21575000000000003|\n",
            "+---------+-----+------------------+-------------------+\n",
            "only showing top 20 rows\n",
            "\n"
          ]
        }
      ]
    },
    {
      "cell_type": "code",
      "source": [
        "# QUESTION 1 PART A\n",
        "temp_by_yr.createOrReplaceTempView('temp_by_yr')\n",
        "\n",
        "question_1a = spark.sql(\"\"\"select country, yearly_avg_temp, year_\n",
        "from temp_by_yr\n",
        "where year_=1990\n",
        "group by country, year_, yearly_avg_temp\"\"\").show()\n",
        "\n",
        "print(\"--- %s seconds ---\" % (time.time() - start_time))"
      ],
      "metadata": {
        "colab": {
          "base_uri": "https://localhost:8080/"
        },
        "id": "M2-72iU6v3-V",
        "outputId": "2298a6fc-944a-4ce4-d3e7-a02defc2cd45"
      },
      "execution_count": 65,
      "outputs": [
        {
          "output_type": "stream",
          "name": "stdout",
          "text": [
            "+--------------------+------------------+-----+\n",
            "|             country|   yearly_avg_temp|year_|\n",
            "+--------------------+------------------+-----+\n",
            "|             Estonia| 6.698583333333332| 1990|\n",
            "|         New Zealand| 11.26933333333333| 1990|\n",
            "|            Portugal|15.742750000000001| 1990|\n",
            "|             Iceland|           1.77475| 1990|\n",
            "|           Lithuania| 7.978416666666667| 1990|\n",
            "|              Norway|            2.0665| 1990|\n",
            "|               Italy|13.716916666666664| 1990|\n",
            "|             Romania|            10.226| 1990|\n",
            "|         Switzerland| 8.255583333333334| 1990|\n",
            "|             Hungary|10.920333333333334| 1990|\n",
            "|              Greece|15.499333333333333| 1990|\n",
            "|          Costa Rica|26.290249999999997| 1990|\n",
            "|              Cyprus| 19.19441666666667| 1990|\n",
            "|             Ukraine| 9.400833333333333| 1990|\n",
            "|              Russia|-4.022916666666667| 1990|\n",
            "|      Czech Republic| 8.962666666666665| 1990|\n",
            "|             Austria|             7.344| 1990|\n",
            "|              Brazil| 25.27491666666667| 1990|\n",
            "|      United Kingdom| 9.674583333333333| 1990|\n",
            "|China (People's R...| 7.635999999999998| 1990|\n",
            "+--------------------+------------------+-----+\n",
            "only showing top 20 rows\n",
            "\n",
            "--- 23.029409646987915 seconds ---\n"
          ]
        }
      ]
    },
    {
      "cell_type": "code",
      "source": [
        "# QUESTION 1 PART B\n",
        "question_1b = spark.sql(\"\"\"\n",
        "select country, yearly_avg_temp, year_\n",
        "from temp_by_yr\n",
        "where year_=2013\n",
        "group by country, year_, yearly_avg_temp;\"\"\").show()\n",
        "\n",
        "print(\"--- %s seconds ---\" % (time.time() - start_time))"
      ],
      "metadata": {
        "colab": {
          "base_uri": "https://localhost:8080/"
        },
        "id": "yXMgO2mrw-k_",
        "outputId": "d6b002b3-13f8-4c8b-d392-058ec545b3a9"
      },
      "execution_count": 66,
      "outputs": [
        {
          "output_type": "stream",
          "name": "stdout",
          "text": [
            "+--------------------+-------------------+-----+\n",
            "|             country|    yearly_avg_temp|year_|\n",
            "+--------------------+-------------------+-----+\n",
            "|         Netherlands|             9.8565| 2013|\n",
            "|          Kazakhstan|            8.93725| 2013|\n",
            "|              Latvia|           7.322375| 2013|\n",
            "|             Ireland|            9.97475| 2013|\n",
            "|              Greece|            17.1535| 2013|\n",
            "|             Austria|           8.055125| 2013|\n",
            "|           Indonesia|             26.467| 2013|\n",
            "|             Finland|           4.064125| 2013|\n",
            "|              Monaco|             10.417| 2013|\n",
            "|             Iceland| 2.9202500000000002| 2013|\n",
            "|        Saudi Arabia|           27.74075| 2013|\n",
            "|       United States| 11.297111111111112| 2013|\n",
            "|             Denmark|-14.927249999999999| 2013|\n",
            "|             Germany|            9.23525| 2013|\n",
            "|               Chile|  9.877374999999997| 2013|\n",
            "|               Italy|             14.165| 2013|\n",
            "|          Costa Rica| 26.457555555555555| 2013|\n",
            "|China (People's R...|              9.295| 2013|\n",
            "|               India|           25.41325| 2013|\n",
            "|        South Africa|          17.325375| 2013|\n",
            "+--------------------+-------------------+-----+\n",
            "only showing top 20 rows\n",
            "\n",
            "--- 27.53549551963806 seconds ---\n"
          ]
        }
      ]
    },
    {
      "cell_type": "code",
      "source": [
        "# QUESTION 2 PART A\n",
        "emissions_df.createOrReplaceTempView('emissions')\n",
        "\n",
        "question_2a = spark.sql(\"\"\"select country, \n",
        "pollutant, \n",
        "powercode, \n",
        "variable,\n",
        "Emissionval, \n",
        "Unit, \n",
        "Emissionyear\n",
        "from emissions\n",
        "where pollutant='Greenhouse gases' and Emissionyear = 1990 and variable= 'Total  emissions excluding LULUCF'\"\"\").show()\n",
        "\n",
        "print(\"--- %s seconds ---\" % (time.time() - start_time))"
      ],
      "metadata": {
        "colab": {
          "base_uri": "https://localhost:8080/"
        },
        "id": "tcqTuIebywGB",
        "outputId": "7c733b03-0338-4380-b03c-17d863c6d3dd"
      },
      "execution_count": 67,
      "outputs": [
        {
          "output_type": "stream",
          "name": "stdout",
          "text": [
            "+--------------+----------------+---------+--------------------+-----------+--------------------+------------+\n",
            "|       country|       pollutant|powercode|            variable|Emissionval|                Unit|Emissionyear|\n",
            "+--------------+----------------+---------+--------------------+-----------+--------------------+------------+\n",
            "|     Australia|Greenhouse gases|Thousands|Total  emissions ...| 425624.307|Tonnes of CO2 equ...|        1990|\n",
            "|       Austria|Greenhouse gases|Thousands|Total  emissions ...|  78423.221|Tonnes of CO2 equ...|        1990|\n",
            "|       Belgium|Greenhouse gases|Thousands|Total  emissions ...| 145686.757|Tonnes of CO2 equ...|        1990|\n",
            "|        Canada|Greenhouse gases|Thousands|Total  emissions ...| 594722.243|Tonnes of CO2 equ...|        1990|\n",
            "|Czech Republic|Greenhouse gases|Thousands|Total  emissions ...| 196955.242|Tonnes of CO2 equ...|        1990|\n",
            "|       Denmark|Greenhouse gases|Thousands|Total  emissions ...|  71429.972|Tonnes of CO2 equ...|        1990|\n",
            "|       Finland|Greenhouse gases|Thousands|Total  emissions ...|  71015.768|Tonnes of CO2 equ...|        1990|\n",
            "|        France|Greenhouse gases|Thousands|Total  emissions ...| 547183.229|Tonnes of CO2 equ...|        1990|\n",
            "|       Germany|Greenhouse gases|Thousands|Total  emissions ...|1241919.234|Tonnes of CO2 equ...|        1990|\n",
            "|        Greece|Greenhouse gases|Thousands|Total  emissions ...|  103450.64|Tonnes of CO2 equ...|        1990|\n",
            "|       Hungary|Greenhouse gases|Thousands|Total  emissions ...|  94820.922|Tonnes of CO2 equ...|        1990|\n",
            "|       Iceland|Greenhouse gases|Thousands|Total  emissions ...|   3674.481|Tonnes of CO2 equ...|        1990|\n",
            "|       Ireland|Greenhouse gases|Thousands|Total  emissions ...|  54395.332|Tonnes of CO2 equ...|        1990|\n",
            "|         Italy|Greenhouse gases|Thousands|Total  emissions ...| 519907.937|Tonnes of CO2 equ...|        1990|\n",
            "|         Japan|Greenhouse gases|Thousands|Total  emissions ...|1269901.035|Tonnes of CO2 equ...|        1990|\n",
            "|         Korea|Greenhouse gases|Thousands|Total  emissions ...|  292097.82|Tonnes of CO2 equ...|        1990|\n",
            "|    Luxembourg|Greenhouse gases|Thousands|Total  emissions ...|  12732.993|Tonnes of CO2 equ...|        1990|\n",
            "|        Mexico|Greenhouse gases|Thousands|Total  emissions ...| 467413.124|Tonnes of CO2 equ...|        1990|\n",
            "|   Netherlands|Greenhouse gases|Thousands|Total  emissions ...| 219596.541|Tonnes of CO2 equ...|        1990|\n",
            "|   New Zealand|Greenhouse gases|Thousands|Total  emissions ...|  65196.981|Tonnes of CO2 equ...|        1990|\n",
            "+--------------+----------------+---------+--------------------+-----------+--------------------+------------+\n",
            "only showing top 20 rows\n",
            "\n",
            "--- 32.41891431808472 seconds ---\n"
          ]
        }
      ]
    },
    {
      "cell_type": "code",
      "source": [
        "# QUESTION 2 PART B\n",
        "question_2b = spark.sql(\"\"\"select country, \n",
        "pollutant, \n",
        "powercode, \n",
        "variable,\n",
        "Emissionval, \n",
        "Unit, \n",
        "Emissionyear\n",
        "from emissions\n",
        "where pollutant='Greenhouse gases' and Emissionyear = 2013 and variable= 'Total  emissions excluding LULUCF'\"\"\").show()\n",
        "\n",
        "print(\"--- %s seconds ---\" % (time.time() - start_time))"
      ],
      "metadata": {
        "colab": {
          "base_uri": "https://localhost:8080/"
        },
        "id": "BfhgLybfz09v",
        "outputId": "c8e37022-7295-4ff5-b5f9-26f310d4632c"
      },
      "execution_count": 68,
      "outputs": [
        {
          "output_type": "stream",
          "name": "stdout",
          "text": [
            "+--------------+----------------+---------+--------------------+-----------+--------------------+------------+\n",
            "|       country|       pollutant|powercode|            variable|Emissionval|                Unit|Emissionyear|\n",
            "+--------------+----------------+---------+--------------------+-----------+--------------------+------------+\n",
            "|     Australia|Greenhouse gases|Thousands|Total  emissions ...| 532267.335|Tonnes of CO2 equ...|        2013|\n",
            "|       Austria|Greenhouse gases|Thousands|Total  emissions ...|  79772.019|Tonnes of CO2 equ...|        2013|\n",
            "|       Belgium|Greenhouse gases|Thousands|Total  emissions ...|  120458.32|Tonnes of CO2 equ...|        2013|\n",
            "|        Canada|Greenhouse gases|Thousands|Total  emissions ...| 732162.302|Tonnes of CO2 equ...|        2013|\n",
            "|Czech Republic|Greenhouse gases|Thousands|Total  emissions ...| 128913.027|Tonnes of CO2 equ...|        2013|\n",
            "|       Denmark|Greenhouse gases|Thousands|Total  emissions ...|   56919.35|Tonnes of CO2 equ...|        2013|\n",
            "|       Finland|Greenhouse gases|Thousands|Total  emissions ...|  62724.309|Tonnes of CO2 equ...|        2013|\n",
            "|        France|Greenhouse gases|Thousands|Total  emissions ...| 491335.786|Tonnes of CO2 equ...|        2013|\n",
            "|       Germany|Greenhouse gases|Thousands|Total  emissions ...| 933987.361|Tonnes of CO2 equ...|        2013|\n",
            "|        Greece|Greenhouse gases|Thousands|Total  emissions ...| 102661.381|Tonnes of CO2 equ...|        2013|\n",
            "|       Hungary|Greenhouse gases|Thousands|Total  emissions ...|  58033.037|Tonnes of CO2 equ...|        2013|\n",
            "|       Iceland|Greenhouse gases|Thousands|Total  emissions ...|   4661.031|Tonnes of CO2 equ...|        2013|\n",
            "|       Ireland|Greenhouse gases|Thousands|Total  emissions ...|  58550.213|Tonnes of CO2 equ...|        2013|\n",
            "|         Italy|Greenhouse gases|Thousands|Total  emissions ...| 450434.412|Tonnes of CO2 equ...|        2013|\n",
            "|         Japan|Greenhouse gases|Thousands|Total  emissions ...|1406811.175|Tonnes of CO2 equ...|        2013|\n",
            "|         Korea|Greenhouse gases|Thousands|Total  emissions ...|   697308.8|Tonnes of CO2 equ...|        2013|\n",
            "|    Luxembourg|Greenhouse gases|Thousands|Total  emissions ...|  11276.749|Tonnes of CO2 equ...|        2013|\n",
            "|        Mexico|Greenhouse gases|Thousands|Total  emissions ...| 735453.189|Tonnes of CO2 equ...|        2013|\n",
            "|   Netherlands|Greenhouse gases|Thousands|Total  emissions ...| 193342.444|Tonnes of CO2 equ...|        2013|\n",
            "|   New Zealand|Greenhouse gases|Thousands|Total  emissions ...|  79805.655|Tonnes of CO2 equ...|        2013|\n",
            "+--------------+----------------+---------+--------------------+-----------+--------------------+------------+\n",
            "only showing top 20 rows\n",
            "\n",
            "--- 37.04224443435669 seconds ---\n"
          ]
        }
      ]
    },
    {
      "cell_type": "code",
      "source": [
        "# QUESTION 3\n",
        "\n",
        "t_1990 =  spark.read.csv('temp_1990.csv', header=True)\n",
        "t_2013 = spark.read.csv('temp_2013.csv', header=True)\n",
        "\n",
        "t_1990.createOrReplaceTempView('temp_1990')\n",
        "t_2013.createOrReplaceTempView('temp_2013')\n",
        "\n",
        "question_3 = spark.sql(\"\"\"select temp_1990.country, (temp_2013.yearly_avg_temp - temp_1990.yearly_avg_temp) as difference_in_temp\n",
        "from temp_2013\n",
        "join temp_1990 on temp_1990.country=temp_2013.country\n",
        "order by difference_in_temp desc;\"\"\").show()\n",
        "\n",
        "print(\"--- %s seconds ---\" % (time.time() - start_time))"
      ],
      "metadata": {
        "colab": {
          "base_uri": "https://localhost:8080/"
        },
        "id": "qn59kTxI0Ce0",
        "outputId": "cd95d2ad-ef86-4df5-edc0-cc7a1d6578c5"
      },
      "execution_count": 69,
      "outputs": [
        {
          "output_type": "stream",
          "name": "stdout",
          "text": [
            "+--------------------+------------------+\n",
            "|             country|difference_in_temp|\n",
            "+--------------------+------------------+\n",
            "|              Canada|3.3812500000000005|\n",
            "|             Denmark| 2.943083333333332|\n",
            "|          Kazakhstan|            2.3815|\n",
            "|                Iran| 2.114583333333332|\n",
            "|            TÃ¼rkiye|1.9941250000000004|\n",
            "|            Bulgaria|1.8142083333333314|\n",
            "|       United States|1.7755277777777785|\n",
            "|              Russia|1.7597916666666658|\n",
            "|        Saudi Arabia|1.7219999999999906|\n",
            "|China (People's R...|1.6590000000000016|\n",
            "|              Greece|1.6541666666666686|\n",
            "|             Ukraine|1.5126666666666662|\n",
            "|             Romania|1.4194999999999993|\n",
            "|             Hungary| 1.381166666666667|\n",
            "|              Mexico| 1.258388888888895|\n",
            "|               India|1.2350833333333355|\n",
            "|              Cyprus| 1.155458333333332|\n",
            "|             Croatia|1.1545833333333366|\n",
            "|             Iceland|1.1455000000000002|\n",
            "|             Finland| 1.120874999999999|\n",
            "+--------------------+------------------+\n",
            "only showing top 20 rows\n",
            "\n",
            "--- 42.61349177360535 seconds ---\n"
          ]
        }
      ]
    },
    {
      "cell_type": "code",
      "source": [
        "# QUESTION 4\n",
        "\n",
        "e_1990 =  spark.read.csv('Emission_1990.csv', header=True)\n",
        "e_2013 = spark.read.csv('Emission_2013.csv', header=True)\n",
        "\n",
        "\n",
        "e_1990.createOrReplaceTempView('emission_1990')\n",
        "e_2013.createOrReplaceTempView('emission_2013')\n",
        "\n",
        "question_4 = spark.sql(\"\"\"select emission_1990.country, (emission_2013.value_ - emission_1990.value_) as difference_in_emission\n",
        "from emission_2013\n",
        "join emission_1990 on emission_1990.country=emission_2013.country\n",
        "order by difference_in_emission desc;\"\"\").show()\n",
        "\n",
        "print(\"--- %s seconds ---\" % (time.time() - start_time))"
      ],
      "metadata": {
        "colab": {
          "base_uri": "https://localhost:8080/"
        },
        "id": "2P1C1fiz0YX0",
        "outputId": "b3e51a15-957f-472f-fb52-8ef564681336"
      },
      "execution_count": 70,
      "outputs": [
        {
          "output_type": "stream",
          "name": "stdout",
          "text": [
            "+-----------------+----------------------+\n",
            "|          country|difference_in_emission|\n",
            "+-----------------+----------------------+\n",
            "|     OECD America|              819633.0|\n",
            "|     OECD - Total|              778520.0|\n",
            "|OECD Asia Oceania|              683937.0|\n",
            "|        Indonesia|             529760.61|\n",
            "|           Brazil|     478344.8500000001|\n",
            "|            Korea|    405210.98000000004|\n",
            "|    United States|    331043.99399999995|\n",
            "|           Mexico|            268040.065|\n",
            "|         TÃ¼rkiye|    220328.69300000003|\n",
            "|           Canada|            137440.059|\n",
            "|            Japan|    136910.14000000013|\n",
            "|        Australia|    106643.02799999999|\n",
            "|        Argentina|    100771.12000000002|\n",
            "|         Colombia|    60776.990000000005|\n",
            "|            Chile|              53468.89|\n",
            "|            Spain|              33727.19|\n",
            "|      New Zealand|    14608.673999999999|\n",
            "|       Costa Rica|               5539.18|\n",
            "|         Portugal|              5082.178|\n",
            "|          Ireland|     4154.881000000001|\n",
            "+-----------------+----------------------+\n",
            "only showing top 20 rows\n",
            "\n",
            "--- 48.701751470565796 seconds ---\n"
          ]
        }
      ]
    },
    {
      "cell_type": "code",
      "source": [
        "## UnCaching and Caching Question 4"
      ],
      "metadata": {
        "id": "hxnf6vNxFjh2"
      },
      "execution_count": 71,
      "outputs": []
    },
    {
      "cell_type": "code",
      "source": [
        "spark.sql(\"uncache table Emission_1990\")\n",
        "\n",
        "question_4 = spark.sql(\"\"\"select emission_1990.country, (emission_2013.value_ - emission_1990.value_) as difference_in_emission\n",
        "from emission_2013\n",
        "join emission_1990 on emission_1990.country=emission_2013.country\n",
        "order by difference_in_emission desc;\"\"\").show()\n",
        "\n",
        "print(\"--- %s seconds ---\" % (time.time() - start_time))"
      ],
      "metadata": {
        "colab": {
          "base_uri": "https://localhost:8080/"
        },
        "id": "lrwky0gY9eki",
        "outputId": "d41dc9c2-3cbb-4a28-8ef8-b53bd0c59ec0"
      },
      "execution_count": 76,
      "outputs": [
        {
          "output_type": "stream",
          "name": "stdout",
          "text": [
            "+-----------------+----------------------+\n",
            "|          country|difference_in_emission|\n",
            "+-----------------+----------------------+\n",
            "|     OECD America|              819633.0|\n",
            "|     OECD - Total|              778520.0|\n",
            "|OECD Asia Oceania|              683937.0|\n",
            "|        Indonesia|             529760.61|\n",
            "|           Brazil|     478344.8500000001|\n",
            "|            Korea|    405210.98000000004|\n",
            "|    United States|    331043.99399999995|\n",
            "|           Mexico|            268040.065|\n",
            "|         TÃ¼rkiye|    220328.69300000003|\n",
            "|           Canada|            137440.059|\n",
            "|            Japan|    136910.14000000013|\n",
            "|        Australia|    106643.02799999999|\n",
            "|        Argentina|    100771.12000000002|\n",
            "|         Colombia|    60776.990000000005|\n",
            "|            Chile|              53468.89|\n",
            "|            Spain|              33727.19|\n",
            "|      New Zealand|    14608.673999999999|\n",
            "|       Costa Rica|               5539.18|\n",
            "|         Portugal|              5082.178|\n",
            "|          Ireland|     4154.881000000001|\n",
            "+-----------------+----------------------+\n",
            "only showing top 20 rows\n",
            "\n",
            "--- 168.59628033638 seconds ---\n"
          ]
        }
      ]
    },
    {
      "cell_type": "code",
      "source": [
        "spark.sql(\"cache table Emission_1990\")\n",
        "\n",
        "question_4 = spark.sql(\"\"\"select emission_1990.country, (emission_2013.value_ - emission_1990.value_) as difference_in_emission\n",
        "from emission_2013\n",
        "join emission_1990 on emission_1990.country=emission_2013.country\n",
        "order by difference_in_emission desc;\"\"\").show()\n",
        "\n",
        "print(\"--- %s seconds ---\" % (time.time() - start_time))\n",
        "#Note: Need to fix as this is running slower than just using a view."
      ],
      "metadata": {
        "colab": {
          "base_uri": "https://localhost:8080/"
        },
        "id": "CzpKX92DFqw_",
        "outputId": "ce3aa883-3dfe-416e-884b-5c20e1841214"
      },
      "execution_count": 77,
      "outputs": [
        {
          "output_type": "stream",
          "name": "stdout",
          "text": [
            "+-----------------+----------------------+\n",
            "|          country|difference_in_emission|\n",
            "+-----------------+----------------------+\n",
            "|     OECD America|              819633.0|\n",
            "|     OECD - Total|              778520.0|\n",
            "|OECD Asia Oceania|              683937.0|\n",
            "|        Indonesia|             529760.61|\n",
            "|           Brazil|     478344.8500000001|\n",
            "|            Korea|    405210.98000000004|\n",
            "|    United States|    331043.99399999995|\n",
            "|           Mexico|            268040.065|\n",
            "|         TÃ¼rkiye|    220328.69300000003|\n",
            "|           Canada|            137440.059|\n",
            "|            Japan|    136910.14000000013|\n",
            "|        Australia|    106643.02799999999|\n",
            "|        Argentina|    100771.12000000002|\n",
            "|         Colombia|    60776.990000000005|\n",
            "|            Chile|              53468.89|\n",
            "|            Spain|              33727.19|\n",
            "|      New Zealand|    14608.673999999999|\n",
            "|       Costa Rica|               5539.18|\n",
            "|         Portugal|              5082.178|\n",
            "|          Ireland|     4154.881000000001|\n",
            "+-----------------+----------------------+\n",
            "only showing top 20 rows\n",
            "\n",
            "--- 171.70908331871033 seconds ---\n"
          ]
        }
      ]
    },
    {
      "cell_type": "code",
      "source": [
        "### Parquet for Question #4:"
      ],
      "metadata": {
        "id": "-2oT6xu-76NI"
      },
      "execution_count": null,
      "outputs": []
    },
    {
      "cell_type": "code",
      "source": [
        "## 1990 Emissions\n",
        "# e_1990.write.parquet('emission_1990', mode='overwrite')\n",
        "# e90_df=spark.read.parquet('emission_1990')\n"
      ],
      "metadata": {
        "id": "J50sUjeL0eNR"
      },
      "execution_count": null,
      "outputs": []
    },
    {
      "cell_type": "code",
      "source": [
        "## 2013 Emissions\n",
        "# e_2013.write.parquet('emission_2013', mode='overwrite')\n",
        "# e13_df=spark.read.parquet('emission_2013')"
      ],
      "metadata": {
        "id": "QDYY-i_H6mkm"
      },
      "execution_count": null,
      "outputs": []
    },
    {
      "cell_type": "code",
      "source": [
        "# e90_df.createOrReplaceTempView('1990_emissions')\n",
        "# e13_df.createOrReplaceTempView('2013_emissions')"
      ],
      "metadata": {
        "id": "u0erMCXe7AsG"
      },
      "execution_count": null,
      "outputs": []
    },
    {
      "cell_type": "code",
      "source": [
        "# question_4_par = spark.sql(\"\"\"select e1990.country, (e2013.value_ - e1990.value_) as difference_in_emission\n",
        "# from 2013_emissions as e2013\n",
        "# join 1990_emissions as e1990 on e1990.country=e2013.country\n",
        "# order by difference_in_emission desc;\"\"\").show()\n",
        "\n",
        "# print(\"--- %s seconds ---\" % (time.time() - start_time))"
      ],
      "metadata": {
        "id": "_m51vF-g7L_b"
      },
      "execution_count": null,
      "outputs": []
    },
    {
      "cell_type": "code",
      "source": [],
      "metadata": {
        "id": "bXgGcYpl44Lj"
      },
      "execution_count": null,
      "outputs": []
    }
  ]
}